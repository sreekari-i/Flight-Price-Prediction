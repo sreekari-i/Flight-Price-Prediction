{
 "cells": [
  {
   "cell_type": "code",
   "execution_count": 1,
   "metadata": {},
   "outputs": [],
   "source": [
    "# Importing Libraries\n",
    "import selenium\n",
    "import pandas as pd\n",
    "import time\n",
    "from bs4 import BeautifulSoup\n",
    "\n",
    "# Importing selenium webdriver \n",
    "from selenium import webdriver\n",
    "\n",
    "# Importing required Exceptions which needs to handled\n",
    "from selenium.common.exceptions import StaleElementReferenceException, NoSuchElementException\n",
    "\n",
    "#Importing requests\n",
    "import requests\n",
    "\n",
    "# importing regex\n",
    "import re"
   ]
  },
  {
   "cell_type": "code",
   "execution_count": 2,
   "metadata": {},
   "outputs": [],
   "source": [
    "# Setting display options for the dataframe\n",
    "pd.set_option('display.max_rows', None)\n",
    "pd.options.display.max_colwidth = 500\n",
    "pd. set_option('display.width', 10000)"
   ]
  },
  {
   "cell_type": "code",
   "execution_count": 79,
   "metadata": {
    "scrolled": true
   },
   "outputs": [],
   "source": [
    "# Activating the chrome browser\n",
    "driver=webdriver.Chrome(\"C:\\\\Users\\\\Lenovo\\\\Downloads\\chromedriver.exe\") \n",
    "time.sleep(3)\n",
    "\n",
    "# Opening the archives of skyscanner.co.in website\n",
    "url = \"https://www.makemytrip.com/flights/\"\n",
    "driver.get(url)"
   ]
  },
  {
   "cell_type": "code",
   "execution_count": 80,
   "metadata": {},
   "outputs": [],
   "source": [
    "# scrape all cities\n",
    "flight_route = []\n",
    "\n",
    "url_cities=driver.find_elements_by_xpath('/html/body/div[1]/div/div[2]/div/main/div[6]/div/div/div/p[2]/p/a')       #scraping urls\n",
    "for i in url_cities:\n",
    "        flight_route.append(i.get_attribute(\"href\"))                        #appending the urls in all_cities list\n",
    "time.sleep(2)"
   ]
  },
  {
   "cell_type": "code",
   "execution_count": 22,
   "metadata": {},
   "outputs": [
    {
     "data": {
      "text/plain": [
       "36"
      ]
     },
     "execution_count": 22,
     "metadata": {},
     "output_type": "execute_result"
    }
   ],
   "source": [
    "len(flight_route)"
   ]
  },
  {
   "cell_type": "code",
   "execution_count": 81,
   "metadata": {},
   "outputs": [],
   "source": [
    "Name = []\n",
    "Date = []\n",
    "Dep_time = []\n",
    "Arr_time = []\n",
    "Dep_place = []\n",
    "Arr_place = []\n",
    "Duration = []\n",
    "flight_type = []\n",
    "Price = []\n",
    "\n",
    "\n",
    "\n",
    "all_url= []\n",
    "for city in flight_route:\n",
    "    driver.get(city)\n",
    "    time.sleep(1)\n",
    "    \n",
    "# 2000 time we scroll down by 10000 in order to generate more images on the website\n",
    "    for _ in range(40):\n",
    "        driver.execute_script(\"window.scrollBy(0,10)\")\n",
    "        time.sleep(2)\n",
    "        \n",
    "        \n",
    "        \n",
    "# Extracting name from xpath\n",
    "        try:    \n",
    "            name = driver.find_elements_by_xpath('/html/body/main/div[1]/div/div/div/div[2]/div/div[2]/div[4]/div[3]/div/div/div/div[28]/div[1]/div[2]/div[1]/div/span')\n",
    "            for i in name:\n",
    "                Name.append(i.text)\n",
    "        except NoSuchElementException:  \n",
    "                    Name.append('-') \n",
    "\n",
    "        time.sleep(1)\n",
    "\n",
    "\n",
    "\n",
    "# Extracting departure time from xpath\n",
    "        try:    \n",
    "            time1 = driver.find_elements_by_xpath('/html/body/main/div[1]/div/div/div/div[2]/div/div[2]/div[4]/div[3]/div/div/div/div/div[1]/div[2]/div[2]/label/div/div/div[1]/div[1]/p[1]/span')\n",
    "            for i in time1:\n",
    "                Dep_time.append(i.text)\n",
    "        except NoSuchElementException:  \n",
    "                    Dep_time.append('-') \n",
    "\n",
    "        time.sleep(1)\n",
    "\n",
    "\n",
    "\n",
    " # Extracting arrival time from xpath\n",
    "        try:    \n",
    "            time2 = driver.find_elements_by_xpath('/html/body/main/div[1]/div/div/div/div[2]/div/div[2]/div[4]/div[3]/div/div/div/div/div[1]/div[2]/div[2]/label/div/div/div[3]/div[1]/p[1]/span')\n",
    "            for i in time2:\n",
    "                Arr_time.append(i.text)\n",
    "        except NoSuchElementException:  \n",
    "                    Arr_time.append('-') \n",
    "\n",
    "        time.sleep(1)\n",
    "\n",
    "\n",
    "\n",
    " # Extracting departure place from xpath\n",
    "        try:    \n",
    "            place1 = driver.find_elements_by_xpath('/html/body/main/div[1]/div/div/div/div[2]/div/div[2]/div[4]/div[3]/div/div/div/div/div[1]/div[2]/div[2]/label/div/div/div[1]/div[1]/p[2]')\n",
    "            for i in place1:\n",
    "                Dep_place.append(i.text)\n",
    "        except NoSuchElementException:      \n",
    "                    Dep_place.append('-') \n",
    "\n",
    "        time.sleep(1)\n",
    "\n",
    "\n",
    "\n",
    "# Extracting arrival place from xpath\n",
    "        try:    \n",
    "            place2 = driver.find_elements_by_xpath('/html/body/main/div[1]/div/div/div/div[2]/div/div[2]/div[4]/div[3]/div/div/div/div/div[1]/div[2]/div[2]/label/div/div/div[3]/div[1]/p[2]')\n",
    "            for i in place2:\n",
    "                Arr_place.append(i.text)\n",
    "        except NoSuchElementException:  \n",
    "                    Arr_place.append('-') \n",
    "\n",
    "        time.sleep(1)\n",
    "\n",
    "\n",
    "\n",
    " # Extracting duration  from xpath\n",
    "        try:    \n",
    "            dur = driver.find_elements_by_xpath('/html/body/main/div[1]/div/div/div/div[2]/div/div[2]/div[4]/div[3]/div/div/div/div/div[1]/div[2]/div[2]/label/div/div/div[2]/p')\n",
    "            for i in dur:\n",
    "                Duration.append(i.text)\n",
    "        except NoSuchElementException:  \n",
    "                    Duration.append('-') \n",
    "\n",
    "        time.sleep(1)\n",
    "    \n",
    "    \n",
    "    \n",
    " # Extracting flight type from xpath\n",
    "        try:    \n",
    "            fli_type = driver.find_elements_by_xpath('/html/body/main/div[1]/div/div/div/div[2]/div/div[2]/div[4]/div[3]/div/div/div/div/div[1]/div[2]/div[2]/label/div/div/div[2]/div/p')\n",
    "            for i in fli_type:\n",
    "                flight_type.append(i.text)\n",
    "        except NoSuchElementException:  \n",
    "                    flight_type.append('-') \n",
    "\n",
    "        time.sleep(1)\n",
    "\n",
    "\n",
    "        # Extracting Price from xpath\n",
    "        try:    \n",
    "            price = driver.find_elements_by_xpath('/html/body/main/div[1]/div/div/div/div[2]/div/div[2]/div[4]/div[3]/div/div/div/div/div[1]/div[2]/div[4]/div/div/p')\n",
    "            for i in price:\n",
    "                Price.append(i.text)\n",
    "        except NoSuchElementException:  \n",
    "                    Price.append('-') \n",
    "\n",
    "        time.sleep(1)\n",
    "\n",
    "        "
   ]
  },
  {
   "cell_type": "code",
   "execution_count": 106,
   "metadata": {},
   "outputs": [
    {
     "data": {
      "text/plain": [
       "19"
      ]
     },
     "execution_count": 106,
     "metadata": {},
     "output_type": "execute_result"
    }
   ],
   "source": [
    "len(Name)"
   ]
  },
  {
   "cell_type": "code",
   "execution_count": 127,
   "metadata": {},
   "outputs": [],
   "source": [
    "Name1 = []\n",
    "\n",
    "all_url= []\n",
    "for city in flight_route:\n",
    "    driver.get(city)\n",
    "    time.sleep(1)\n",
    "    \n",
    "# 2000 time we scroll down by 10000 in order to generate more images on the website\n",
    "    for _ in range(40):\n",
    "        driver.execute_script(\"window.scrollBy(0,10)\")\n",
    "        time.sleep(2)\n",
    "        \n",
    "        \n",
    "        \n",
    "# Extracting name from xpath\n",
    "        try:\n",
    "        \n",
    "                    name = driver.find_elements_by_xpath('/html/body/main/div[1]/div/div/div/div[2]/div/div[2]/div[4]/div[3]/div/div/div/div/div[1]/div[2]/div[1]/div/span')\n",
    "                    for i in name:\n",
    "                        Name1.append(i.text)\n",
    "        except NoSuchElementException:  \n",
    "                    Name1.append('-') \n",
    "\n",
    "        time.sleep(1)\n"
   ]
  },
  {
   "cell_type": "code",
   "execution_count": 134,
   "metadata": {},
   "outputs": [],
   "source": [
    "# Make dataframe\n",
    "flt_data= pd.DataFrame({'Name':Name1[:8000], 'Price':Price[:8000], 'Departure time':Dep_time[:8000], 'Arrival time':Arr_time[:8000],\n",
    "                        'Departure Place':Dep_place[:8000], 'Arrival Place':Arr_place[:8000],\n",
    "                        'Duration':Duration[:8000], 'Flight type':flight_type[:8000]})"
   ]
  },
  {
   "cell_type": "code",
   "execution_count": 135,
   "metadata": {},
   "outputs": [],
   "source": [
    "# converting dataframe to excel file.\n",
    "flt_data.to_excel('flight_data.xlsx')"
   ]
  },
  {
   "cell_type": "code",
   "execution_count": null,
   "metadata": {},
   "outputs": [],
   "source": []
  }
 ],
 "metadata": {
  "kernelspec": {
   "display_name": "Python 3",
   "language": "python",
   "name": "python3"
  },
  "language_info": {
   "codemirror_mode": {
    "name": "ipython",
    "version": 3
   },
   "file_extension": ".py",
   "mimetype": "text/x-python",
   "name": "python",
   "nbconvert_exporter": "python",
   "pygments_lexer": "ipython3",
   "version": "3.8.5"
  }
 },
 "nbformat": 4,
 "nbformat_minor": 4
}
