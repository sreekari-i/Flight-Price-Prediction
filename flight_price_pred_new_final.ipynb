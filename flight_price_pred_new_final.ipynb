{
 "cells": [
  {
   "cell_type": "markdown",
   "metadata": {},
   "source": [
    "### Importing required libraries"
   ]
  },
  {
   "cell_type": "code",
   "execution_count": 1,
   "metadata": {},
   "outputs": [],
   "source": [
    "import numpy as np\n",
    "import pandas as pd\n",
    "import sklearn\n",
    "import seaborn as sns\n",
    "import matplotlib.pyplot as plt\n",
    "import warnings\n",
    "warnings.filterwarnings('ignore')"
   ]
  },
  {
   "cell_type": "code",
   "execution_count": 2,
   "metadata": {},
   "outputs": [],
   "source": [
    "pd.set_option('display.max_columns', None)"
   ]
  },
  {
   "cell_type": "code",
   "execution_count": 3,
   "metadata": {},
   "outputs": [],
   "source": [
    "pd.set_option('display.max_rows', None)"
   ]
  },
  {
   "cell_type": "markdown",
   "metadata": {},
   "source": [
    "### Loading the dataset"
   ]
  },
  {
   "cell_type": "code",
   "execution_count": 4,
   "metadata": {},
   "outputs": [],
   "source": [
    "df = pd.read_excel(\"C:\\\\Users\\\\Lenovo\\\\Downloads\\\\flight_data (1).xlsx\")"
   ]
  },
  {
   "cell_type": "markdown",
   "metadata": {},
   "source": [
    "### Exploratory Data Analysis"
   ]
  },
  {
   "cell_type": "code",
   "execution_count": 5,
   "metadata": {},
   "outputs": [
    {
     "data": {
      "text/html": [
       "<div>\n",
       "<style scoped>\n",
       "    .dataframe tbody tr th:only-of-type {\n",
       "        vertical-align: middle;\n",
       "    }\n",
       "\n",
       "    .dataframe tbody tr th {\n",
       "        vertical-align: top;\n",
       "    }\n",
       "\n",
       "    .dataframe thead th {\n",
       "        text-align: right;\n",
       "    }\n",
       "</style>\n",
       "<table border=\"1\" class=\"dataframe\">\n",
       "  <thead>\n",
       "    <tr style=\"text-align: right;\">\n",
       "      <th></th>\n",
       "      <th>Unnamed: 0</th>\n",
       "      <th>Name</th>\n",
       "      <th>Price</th>\n",
       "      <th>Departure time</th>\n",
       "      <th>Arrival time</th>\n",
       "      <th>Departure Place</th>\n",
       "      <th>Arrival Place</th>\n",
       "      <th>Duration</th>\n",
       "      <th>Flight type</th>\n",
       "    </tr>\n",
       "  </thead>\n",
       "  <tbody>\n",
       "    <tr>\n",
       "      <th>0</th>\n",
       "      <td>0</td>\n",
       "      <td>Air India</td>\n",
       "      <td>₹ 2,341</td>\n",
       "      <td>07:25</td>\n",
       "      <td>10:15</td>\n",
       "      <td>New Delhi</td>\n",
       "      <td>Chennai</td>\n",
       "      <td>02 hrs 50 mins</td>\n",
       "      <td>Non stop</td>\n",
       "    </tr>\n",
       "    <tr>\n",
       "      <th>1</th>\n",
       "      <td>1</td>\n",
       "      <td>Air India</td>\n",
       "      <td>₹ 2,341</td>\n",
       "      <td>12:45</td>\n",
       "      <td>15:40</td>\n",
       "      <td>New Delhi</td>\n",
       "      <td>Chennai</td>\n",
       "      <td>02 hrs 55 mins</td>\n",
       "      <td>Non stop</td>\n",
       "    </tr>\n",
       "    <tr>\n",
       "      <th>2</th>\n",
       "      <td>2</td>\n",
       "      <td>Air India</td>\n",
       "      <td>₹ 2,343</td>\n",
       "      <td>09:15</td>\n",
       "      <td>15:55</td>\n",
       "      <td>New Delhi</td>\n",
       "      <td>Chennai</td>\n",
       "      <td>06 hrs 40 mins</td>\n",
       "      <td>1 stop via Bengaluru</td>\n",
       "    </tr>\n",
       "    <tr>\n",
       "      <th>3</th>\n",
       "      <td>3</td>\n",
       "      <td>Spicejet</td>\n",
       "      <td>₹ 2,343</td>\n",
       "      <td>08:20</td>\n",
       "      <td>15:55</td>\n",
       "      <td>New Delhi</td>\n",
       "      <td>Chennai</td>\n",
       "      <td>07 hrs 35 mins</td>\n",
       "      <td>1 stop via Bengaluru</td>\n",
       "    </tr>\n",
       "    <tr>\n",
       "      <th>4</th>\n",
       "      <td>4</td>\n",
       "      <td>Spicejet</td>\n",
       "      <td>₹ 2,343</td>\n",
       "      <td>06:10</td>\n",
       "      <td>15:55</td>\n",
       "      <td>New Delhi</td>\n",
       "      <td>Chennai</td>\n",
       "      <td>09 hrs 45 mins</td>\n",
       "      <td>1 stop via Bengaluru</td>\n",
       "    </tr>\n",
       "  </tbody>\n",
       "</table>\n",
       "</div>"
      ],
      "text/plain": [
       "   Unnamed: 0       Name    Price Departure time Arrival time Departure Place  \\\n",
       "0           0  Air India  ₹ 2,341          07:25        10:15       New Delhi   \n",
       "1           1  Air India  ₹ 2,341          12:45        15:40       New Delhi   \n",
       "2           2  Air India  ₹ 2,343          09:15        15:55       New Delhi   \n",
       "3           3   Spicejet  ₹ 2,343          08:20        15:55       New Delhi   \n",
       "4           4   Spicejet  ₹ 2,343          06:10        15:55       New Delhi   \n",
       "\n",
       "  Arrival Place        Duration           Flight type  \n",
       "0       Chennai  02 hrs 50 mins              Non stop  \n",
       "1       Chennai  02 hrs 55 mins              Non stop  \n",
       "2       Chennai  06 hrs 40 mins  1 stop via Bengaluru  \n",
       "3       Chennai  07 hrs 35 mins  1 stop via Bengaluru  \n",
       "4       Chennai  09 hrs 45 mins  1 stop via Bengaluru  "
      ]
     },
     "execution_count": 5,
     "metadata": {},
     "output_type": "execute_result"
    }
   ],
   "source": [
    "df.head()"
   ]
  },
  {
   "cell_type": "code",
   "execution_count": 6,
   "metadata": {},
   "outputs": [
    {
     "data": {
      "text/plain": [
       "(7990, 9)"
      ]
     },
     "execution_count": 6,
     "metadata": {},
     "output_type": "execute_result"
    }
   ],
   "source": [
    "df.shape"
   ]
  },
  {
   "cell_type": "code",
   "execution_count": 7,
   "metadata": {},
   "outputs": [
    {
     "data": {
      "text/plain": [
       "Index(['Unnamed: 0', 'Name', 'Price', 'Departure time', 'Arrival time',\n",
       "       'Departure Place', 'Arrival Place', 'Duration', 'Flight type'],\n",
       "      dtype='object')"
      ]
     },
     "execution_count": 7,
     "metadata": {},
     "output_type": "execute_result"
    }
   ],
   "source": [
    "df.columns"
   ]
  },
  {
   "cell_type": "code",
   "execution_count": 8,
   "metadata": {},
   "outputs": [
    {
     "name": "stdout",
     "output_type": "stream",
     "text": [
      "<class 'pandas.core.frame.DataFrame'>\n",
      "RangeIndex: 7990 entries, 0 to 7989\n",
      "Data columns (total 9 columns):\n",
      " #   Column           Non-Null Count  Dtype \n",
      "---  ------           --------------  ----- \n",
      " 0   Unnamed: 0       7990 non-null   int64 \n",
      " 1   Name             7990 non-null   object\n",
      " 2   Price            7990 non-null   object\n",
      " 3   Departure time   7990 non-null   object\n",
      " 4   Arrival time     7990 non-null   object\n",
      " 5   Departure Place  7990 non-null   object\n",
      " 6   Arrival Place    7990 non-null   object\n",
      " 7   Duration         7990 non-null   object\n",
      " 8   Flight type      7990 non-null   object\n",
      "dtypes: int64(1), object(8)\n",
      "memory usage: 561.9+ KB\n"
     ]
    }
   ],
   "source": [
    "df.info()"
   ]
  },
  {
   "cell_type": "code",
   "execution_count": 9,
   "metadata": {},
   "outputs": [
    {
     "data": {
      "text/plain": [
       "Unnamed: 0         0\n",
       "Name               0\n",
       "Price              0\n",
       "Departure time     0\n",
       "Arrival time       0\n",
       "Departure Place    0\n",
       "Arrival Place      0\n",
       "Duration           0\n",
       "Flight type        0\n",
       "dtype: int64"
      ]
     },
     "execution_count": 9,
     "metadata": {},
     "output_type": "execute_result"
    }
   ],
   "source": [
    "#checking null values\n",
    "df.isnull().sum()"
   ]
  },
  {
   "cell_type": "markdown",
   "metadata": {},
   "source": [
    "### Data Pre-Processing"
   ]
  },
  {
   "cell_type": "code",
   "execution_count": 10,
   "metadata": {},
   "outputs": [],
   "source": [
    "# Extracting Hours for Departure time\n",
    "df[\"Dep_hour\"] = pd.to_datetime(df[\"Departure time\"]).dt.hour\n",
    "\n",
    "# Extracting Minutes for Departure time\n",
    "df[\"Dep_min\"] = pd.to_datetime(df[\"Departure time\"]).dt.minute"
   ]
  },
  {
   "cell_type": "code",
   "execution_count": 11,
   "metadata": {},
   "outputs": [],
   "source": [
    "# Extracting Hours for Arrival time\n",
    "df[\"Arr_hour\"] = pd.to_datetime(df[\"Arrival time\"]).dt.hour\n",
    "\n",
    "# Extracting Minutes for Arrival time\n",
    "df[\"Arr_min\"] = pd.to_datetime(df[\"Arrival time\"]).dt.minute"
   ]
  },
  {
   "cell_type": "markdown",
   "metadata": {},
   "source": [
    "---> Converting 'Duration'\n",
    "\n",
    "We know that the 'Duration' is the difference betwwen 'Departure Time' and 'Arrival time'"
   ]
  },
  {
   "cell_type": "code",
   "execution_count": 12,
   "metadata": {},
   "outputs": [],
   "source": [
    "df['Duration'] = df['Duration'].str.replace('hrs',':')\n",
    "df['Duration'] = df['Duration'].str.replace('hr',':')\n",
    "df['Duration'] = df['Duration'].str.replace('mins','')\n",
    "df['Duration'] = df['Duration'].str.replace(' ','')"
   ]
  },
  {
   "cell_type": "code",
   "execution_count": 13,
   "metadata": {
    "scrolled": true
   },
   "outputs": [],
   "source": [
    "# Extracting Hours for Arrival time\n",
    "df[\"Dur_hour\"] = pd.to_datetime(df[\"Duration\"]).dt.hour\n",
    "\n",
    "# Extracting Minutes for Arrival time\n",
    "df[\"Dur_min\"] = pd.to_datetime(df[\"Duration\"]).dt.minute"
   ]
  },
  {
   "cell_type": "code",
   "execution_count": 14,
   "metadata": {},
   "outputs": [
    {
     "data": {
      "text/html": [
       "<div>\n",
       "<style scoped>\n",
       "    .dataframe tbody tr th:only-of-type {\n",
       "        vertical-align: middle;\n",
       "    }\n",
       "\n",
       "    .dataframe tbody tr th {\n",
       "        vertical-align: top;\n",
       "    }\n",
       "\n",
       "    .dataframe thead th {\n",
       "        text-align: right;\n",
       "    }\n",
       "</style>\n",
       "<table border=\"1\" class=\"dataframe\">\n",
       "  <thead>\n",
       "    <tr style=\"text-align: right;\">\n",
       "      <th></th>\n",
       "      <th>Unnamed: 0</th>\n",
       "      <th>Name</th>\n",
       "      <th>Price</th>\n",
       "      <th>Departure time</th>\n",
       "      <th>Arrival time</th>\n",
       "      <th>Departure Place</th>\n",
       "      <th>Arrival Place</th>\n",
       "      <th>Duration</th>\n",
       "      <th>Flight type</th>\n",
       "      <th>Dep_hour</th>\n",
       "      <th>Dep_min</th>\n",
       "      <th>Arr_hour</th>\n",
       "      <th>Arr_min</th>\n",
       "      <th>Dur_hour</th>\n",
       "      <th>Dur_min</th>\n",
       "    </tr>\n",
       "  </thead>\n",
       "  <tbody>\n",
       "    <tr>\n",
       "      <th>0</th>\n",
       "      <td>0</td>\n",
       "      <td>Air India</td>\n",
       "      <td>₹ 2,341</td>\n",
       "      <td>07:25</td>\n",
       "      <td>10:15</td>\n",
       "      <td>New Delhi</td>\n",
       "      <td>Chennai</td>\n",
       "      <td>02:50</td>\n",
       "      <td>Non stop</td>\n",
       "      <td>7</td>\n",
       "      <td>25</td>\n",
       "      <td>10</td>\n",
       "      <td>15</td>\n",
       "      <td>2</td>\n",
       "      <td>50</td>\n",
       "    </tr>\n",
       "    <tr>\n",
       "      <th>1</th>\n",
       "      <td>1</td>\n",
       "      <td>Air India</td>\n",
       "      <td>₹ 2,341</td>\n",
       "      <td>12:45</td>\n",
       "      <td>15:40</td>\n",
       "      <td>New Delhi</td>\n",
       "      <td>Chennai</td>\n",
       "      <td>02:55</td>\n",
       "      <td>Non stop</td>\n",
       "      <td>12</td>\n",
       "      <td>45</td>\n",
       "      <td>15</td>\n",
       "      <td>40</td>\n",
       "      <td>2</td>\n",
       "      <td>55</td>\n",
       "    </tr>\n",
       "    <tr>\n",
       "      <th>2</th>\n",
       "      <td>2</td>\n",
       "      <td>Air India</td>\n",
       "      <td>₹ 2,343</td>\n",
       "      <td>09:15</td>\n",
       "      <td>15:55</td>\n",
       "      <td>New Delhi</td>\n",
       "      <td>Chennai</td>\n",
       "      <td>06:40</td>\n",
       "      <td>1 stop via Bengaluru</td>\n",
       "      <td>9</td>\n",
       "      <td>15</td>\n",
       "      <td>15</td>\n",
       "      <td>55</td>\n",
       "      <td>6</td>\n",
       "      <td>40</td>\n",
       "    </tr>\n",
       "    <tr>\n",
       "      <th>3</th>\n",
       "      <td>3</td>\n",
       "      <td>Spicejet</td>\n",
       "      <td>₹ 2,343</td>\n",
       "      <td>08:20</td>\n",
       "      <td>15:55</td>\n",
       "      <td>New Delhi</td>\n",
       "      <td>Chennai</td>\n",
       "      <td>07:35</td>\n",
       "      <td>1 stop via Bengaluru</td>\n",
       "      <td>8</td>\n",
       "      <td>20</td>\n",
       "      <td>15</td>\n",
       "      <td>55</td>\n",
       "      <td>7</td>\n",
       "      <td>35</td>\n",
       "    </tr>\n",
       "    <tr>\n",
       "      <th>4</th>\n",
       "      <td>4</td>\n",
       "      <td>Spicejet</td>\n",
       "      <td>₹ 2,343</td>\n",
       "      <td>06:10</td>\n",
       "      <td>15:55</td>\n",
       "      <td>New Delhi</td>\n",
       "      <td>Chennai</td>\n",
       "      <td>09:45</td>\n",
       "      <td>1 stop via Bengaluru</td>\n",
       "      <td>6</td>\n",
       "      <td>10</td>\n",
       "      <td>15</td>\n",
       "      <td>55</td>\n",
       "      <td>9</td>\n",
       "      <td>45</td>\n",
       "    </tr>\n",
       "  </tbody>\n",
       "</table>\n",
       "</div>"
      ],
      "text/plain": [
       "   Unnamed: 0       Name    Price Departure time Arrival time Departure Place  \\\n",
       "0           0  Air India  ₹ 2,341          07:25        10:15       New Delhi   \n",
       "1           1  Air India  ₹ 2,341          12:45        15:40       New Delhi   \n",
       "2           2  Air India  ₹ 2,343          09:15        15:55       New Delhi   \n",
       "3           3   Spicejet  ₹ 2,343          08:20        15:55       New Delhi   \n",
       "4           4   Spicejet  ₹ 2,343          06:10        15:55       New Delhi   \n",
       "\n",
       "  Arrival Place Duration           Flight type  Dep_hour  Dep_min  Arr_hour  \\\n",
       "0       Chennai    02:50              Non stop         7       25        10   \n",
       "1       Chennai    02:55              Non stop        12       45        15   \n",
       "2       Chennai    06:40  1 stop via Bengaluru         9       15        15   \n",
       "3       Chennai    07:35  1 stop via Bengaluru         8       20        15   \n",
       "4       Chennai    09:45  1 stop via Bengaluru         6       10        15   \n",
       "\n",
       "   Arr_min  Dur_hour  Dur_min  \n",
       "0       15         2       50  \n",
       "1       40         2       55  \n",
       "2       55         6       40  \n",
       "3       55         7       35  \n",
       "4       55         9       45  "
      ]
     },
     "execution_count": 14,
     "metadata": {},
     "output_type": "execute_result"
    }
   ],
   "source": [
    "df.head()"
   ]
  },
  {
   "cell_type": "markdown",
   "metadata": {},
   "source": [
    "We can see that   'Departure time', 'Arrival time', 'Duration' are converted to timestamps and the new columns that we have created are added to the dataset."
   ]
  },
  {
   "cell_type": "markdown",
   "metadata": {},
   "source": [
    "<br><br>Dropping  'Departure time', 'Arrival time', 'Duration' columns as we have created timestamps for the required info from these columns"
   ]
  },
  {
   "cell_type": "code",
   "execution_count": 15,
   "metadata": {},
   "outputs": [],
   "source": [
    "df.drop([\"Departure time\"], axis = 1, inplace = True)\n",
    "df.drop([\"Arrival time\"], axis = 1, inplace = True)\n",
    "df.drop([\"Duration\"], axis = 1, inplace = True)"
   ]
  },
  {
   "cell_type": "code",
   "execution_count": 16,
   "metadata": {},
   "outputs": [],
   "source": [
    "# dropping 'Unnamed: 0' column\n",
    "df.drop([\"Unnamed: 0\"], axis = 1, inplace = True)"
   ]
  },
  {
   "cell_type": "code",
   "execution_count": 17,
   "metadata": {},
   "outputs": [
    {
     "data": {
      "text/plain": [
       "Index(['Name', 'Price', 'Departure Place', 'Arrival Place', 'Flight type',\n",
       "       'Dep_hour', 'Dep_min', 'Arr_hour', 'Arr_min', 'Dur_hour', 'Dur_min'],\n",
       "      dtype='object')"
      ]
     },
     "execution_count": 17,
     "metadata": {},
     "output_type": "execute_result"
    }
   ],
   "source": [
    "# checking the names of the columns that are available now\n",
    "df.columns"
   ]
  },
  {
   "cell_type": "markdown",
   "metadata": {},
   "source": [
    "### Categorical data\n"
   ]
  },
  {
   "cell_type": "code",
   "execution_count": 18,
   "metadata": {},
   "outputs": [
    {
     "data": {
      "text/plain": [
       "IndiGo                 3435\n",
       "Go First               1451\n",
       "Air India              1137\n",
       "Spicejet                867\n",
       "AirAsia                 561\n",
       "Vistara                 491\n",
       "Go First, Air India      40\n",
       "Air India, AirAsia        4\n",
       "Go First, AirAsia         4\n",
       "Name: Name, dtype: int64"
      ]
     },
     "execution_count": 18,
     "metadata": {},
     "output_type": "execute_result"
    }
   ],
   "source": [
    "df[\"Name\"].value_counts()"
   ]
  },
  {
   "cell_type": "code",
   "execution_count": 19,
   "metadata": {},
   "outputs": [
    {
     "data": {
      "image/png": "[encoded data removed]",
      "text/plain": [
       "<Figure size 1440x576 with 2 Axes>"
      ]
     },
     "metadata": {
      "needs_background": "light"
     },
     "output_type": "display_data"
    }
   ],
   "source": [
    "f,ax=plt.subplots(1,2,figsize=(20,8))\n",
    "df['Name'].value_counts().plot.pie(autopct='%2.2f%%',ax=ax[0],shadow=True)\n",
    "ax[0].set_title('Airline Name')\n",
    "ax[0].set_ylabel('')\n",
    "sns.countplot('Name',data=df,ax=ax[1])\n",
    "ax[1].set_title('Airline Name')\n",
    "plt.show()"
   ]
  },
  {
   "cell_type": "code",
   "execution_count": 20,
   "metadata": {},
   "outputs": [
    {
     "data": {
      "text/plain": [
       "New Delhi     1736\n",
       "Mumbai        1587\n",
       "Bengaluru     1480\n",
       "Chennai       1024\n",
       "Ahmedabad      752\n",
       "Pune           656\n",
       "Kolkata        256\n",
       "Madurai        253\n",
       "Coimbatore     246\n",
       "Name: Departure Place, dtype: int64"
      ]
     },
     "execution_count": 20,
     "metadata": {},
     "output_type": "execute_result"
    }
   ],
   "source": [
    "df[\"Departure Place\"].value_counts()"
   ]
  },
  {
   "cell_type": "code",
   "execution_count": 21,
   "metadata": {},
   "outputs": [
    {
     "data": {
      "image/png": "[encoded data removed]",
      "text/plain": [
       "<Figure size 1440x576 with 2 Axes>"
      ]
     },
     "metadata": {
      "needs_background": "light"
     },
     "output_type": "display_data"
    }
   ],
   "source": [
    "f,ax=plt.subplots(1,2,figsize=(20,8))\n",
    "df['Departure Place'].value_counts().plot.pie(autopct='%2.2f%%',ax=ax[0],shadow=True)\n",
    "ax[0].set_title('Departure Place')\n",
    "ax[0].set_ylabel('')\n",
    "sns.countplot('Departure Place',data=df,ax=ax[1])\n",
    "ax[1].set_title('Departure Place')\n",
    "plt.show()"
   ]
  },
  {
   "cell_type": "code",
   "execution_count": 22,
   "metadata": {},
   "outputs": [
    {
     "data": {
      "text/plain": [
       "New Delhi    1024\n",
       "Mumbai       1024\n",
       "Pune         1024\n",
       "Hyderabad    1024\n",
       "Chennai      1011\n",
       "Goa          1008\n",
       "Bengaluru     912\n",
       "Kolkata       906\n",
       "Jaipur         57\n",
       "Name: Arrival Place, dtype: int64"
      ]
     },
     "execution_count": 22,
     "metadata": {},
     "output_type": "execute_result"
    }
   ],
   "source": [
    "df[\"Arrival Place\"].value_counts()"
   ]
  },
  {
   "cell_type": "code",
   "execution_count": 23,
   "metadata": {},
   "outputs": [
    {
     "data": {
      "image/png": "[encoded data removed]",
      "text/plain": [
       "<Figure size 1440x432 with 2 Axes>"
      ]
     },
     "metadata": {
      "needs_background": "light"
     },
     "output_type": "display_data"
    }
   ],
   "source": [
    "f,ax=plt.subplots(1,2,figsize=(20,6))\n",
    "df['Arrival Place'].value_counts().plot.pie(autopct='%2.2f%%',ax=ax[0],shadow=True)\n",
    "ax[0].set_title('Arrival Place')\n",
    "ax[0].set_ylabel('')\n",
    "sns.countplot('Arrival Place',data=df,ax=ax[1])\n",
    "ax[1].set_title('Arrival Place')\n",
    "plt.show()"
   ]
  },
  {
   "cell_type": "code",
   "execution_count": 24,
   "metadata": {},
   "outputs": [
    {
     "data": {
      "text/plain": [
       "Non stop                       5082\n",
       "1 stop via Bengaluru            645\n",
       "1 stop via Hyderabad            626\n",
       "1 stop via Patna                330\n",
       "1 stop via Mumbai               276\n",
       "1 stop via Chennai              226\n",
       "1 stop via Pune                 145\n",
       "1 stop via Raipur               145\n",
       "1 stop via Bhopal               120\n",
       "2 stop via Hyderabad,Mysore      80\n",
       "1 stop via Bhubaneswar           40\n",
       "1 stop via Nagpur                40\n",
       "1 stop via Surat                 40\n",
       "1 stop via Hubli                 40\n",
       "1 stop via Chandigarh            40\n",
       "1 stop via Nasik                 40\n",
       "1 stop via New Delhi             39\n",
       "1 stop via Indore                36\n",
       "Name: Flight type, dtype: int64"
      ]
     },
     "execution_count": 24,
     "metadata": {},
     "output_type": "execute_result"
    }
   ],
   "source": [
    "df[\"Flight type\"].value_counts()"
   ]
  },
  {
   "cell_type": "code",
   "execution_count": 25,
   "metadata": {},
   "outputs": [
    {
     "data": {
      "image/png": "[encoded data removed]",
      "text/plain": [
       "<Figure size 1440x864 with 2 Axes>"
      ]
     },
     "metadata": {
      "needs_background": "light"
     },
     "output_type": "display_data"
    }
   ],
   "source": [
    "f,ax=plt.subplots(2,1,figsize=(20,12))\n",
    "df['Flight type'].value_counts().plot.pie(autopct='%2.2f%%',ax=ax[0],shadow=True)\n",
    "ax[0].set_title('Total Stops')\n",
    "ax[0].set_ylabel('')\n",
    "sns.countplot('Flight type',data=df ,ax=ax[1])\n",
    "ax[1].set_title('Total_Stops')\n",
    "plt.show()"
   ]
  },
  {
   "cell_type": "markdown",
   "metadata": {},
   "source": [
    "**Encoding the Nominal Categorical data**"
   ]
  },
  {
   "cell_type": "code",
   "execution_count": 26,
   "metadata": {},
   "outputs": [
    {
     "data": {
      "text/html": [
       "<div>\n",
       "<style scoped>\n",
       "    .dataframe tbody tr th:only-of-type {\n",
       "        vertical-align: middle;\n",
       "    }\n",
       "\n",
       "    .dataframe tbody tr th {\n",
       "        vertical-align: top;\n",
       "    }\n",
       "\n",
       "    .dataframe thead th {\n",
       "        text-align: right;\n",
       "    }\n",
       "</style>\n",
       "<table border=\"1\" class=\"dataframe\">\n",
       "  <thead>\n",
       "    <tr style=\"text-align: right;\">\n",
       "      <th></th>\n",
       "      <th>Name_Air India, AirAsia</th>\n",
       "      <th>Name_AirAsia</th>\n",
       "      <th>Name_Go First</th>\n",
       "      <th>Name_Go First, Air India</th>\n",
       "      <th>Name_Go First, AirAsia</th>\n",
       "      <th>Name_IndiGo</th>\n",
       "      <th>Name_Spicejet</th>\n",
       "      <th>Name_Vistara</th>\n",
       "    </tr>\n",
       "  </thead>\n",
       "  <tbody>\n",
       "    <tr>\n",
       "      <th>0</th>\n",
       "      <td>0</td>\n",
       "      <td>0</td>\n",
       "      <td>0</td>\n",
       "      <td>0</td>\n",
       "      <td>0</td>\n",
       "      <td>0</td>\n",
       "      <td>0</td>\n",
       "      <td>0</td>\n",
       "    </tr>\n",
       "    <tr>\n",
       "      <th>1</th>\n",
       "      <td>0</td>\n",
       "      <td>0</td>\n",
       "      <td>0</td>\n",
       "      <td>0</td>\n",
       "      <td>0</td>\n",
       "      <td>0</td>\n",
       "      <td>0</td>\n",
       "      <td>0</td>\n",
       "    </tr>\n",
       "    <tr>\n",
       "      <th>2</th>\n",
       "      <td>0</td>\n",
       "      <td>0</td>\n",
       "      <td>0</td>\n",
       "      <td>0</td>\n",
       "      <td>0</td>\n",
       "      <td>0</td>\n",
       "      <td>0</td>\n",
       "      <td>0</td>\n",
       "    </tr>\n",
       "    <tr>\n",
       "      <th>3</th>\n",
       "      <td>0</td>\n",
       "      <td>0</td>\n",
       "      <td>0</td>\n",
       "      <td>0</td>\n",
       "      <td>0</td>\n",
       "      <td>0</td>\n",
       "      <td>1</td>\n",
       "      <td>0</td>\n",
       "    </tr>\n",
       "    <tr>\n",
       "      <th>4</th>\n",
       "      <td>0</td>\n",
       "      <td>0</td>\n",
       "      <td>0</td>\n",
       "      <td>0</td>\n",
       "      <td>0</td>\n",
       "      <td>0</td>\n",
       "      <td>1</td>\n",
       "      <td>0</td>\n",
       "    </tr>\n",
       "  </tbody>\n",
       "</table>\n",
       "</div>"
      ],
      "text/plain": [
       "   Name_Air India, AirAsia  Name_AirAsia  Name_Go First  \\\n",
       "0                        0             0              0   \n",
       "1                        0             0              0   \n",
       "2                        0             0              0   \n",
       "3                        0             0              0   \n",
       "4                        0             0              0   \n",
       "\n",
       "   Name_Go First, Air India  Name_Go First, AirAsia  Name_IndiGo  \\\n",
       "0                         0                       0            0   \n",
       "1                         0                       0            0   \n",
       "2                         0                       0            0   \n",
       "3                         0                       0            0   \n",
       "4                         0                       0            0   \n",
       "\n",
       "   Name_Spicejet  Name_Vistara  \n",
       "0              0             0  \n",
       "1              0             0  \n",
       "2              0             0  \n",
       "3              1             0  \n",
       "4              1             0  "
      ]
     },
     "execution_count": 26,
     "metadata": {},
     "output_type": "execute_result"
    }
   ],
   "source": [
    "# As Airline Name is Nominal Categorical data we will perform OneHotEncoding\n",
    "\n",
    "Name = df[[\"Name\"]]\n",
    "\n",
    "Name = pd.get_dummies(Name, drop_first= True)\n",
    "\n",
    "Name.head()"
   ]
  },
  {
   "cell_type": "code",
   "execution_count": 27,
   "metadata": {},
   "outputs": [],
   "source": [
    "df = df.rename(columns = {'Departure Place':'Departure_Place', \"Arrival Place\": 'Arrival_Place', 'Flight type': 'total_stops'}, inplace = False)"
   ]
  },
  {
   "cell_type": "code",
   "execution_count": 28,
   "metadata": {},
   "outputs": [
    {
     "data": {
      "text/html": [
       "<div>\n",
       "<style scoped>\n",
       "    .dataframe tbody tr th:only-of-type {\n",
       "        vertical-align: middle;\n",
       "    }\n",
       "\n",
       "    .dataframe tbody tr th {\n",
       "        vertical-align: top;\n",
       "    }\n",
       "\n",
       "    .dataframe thead th {\n",
       "        text-align: right;\n",
       "    }\n",
       "</style>\n",
       "<table border=\"1\" class=\"dataframe\">\n",
       "  <thead>\n",
       "    <tr style=\"text-align: right;\">\n",
       "      <th></th>\n",
       "      <th>Name</th>\n",
       "      <th>Price</th>\n",
       "      <th>Departure_Place</th>\n",
       "      <th>Arrival_Place</th>\n",
       "      <th>total_stops</th>\n",
       "      <th>Dep_hour</th>\n",
       "      <th>Dep_min</th>\n",
       "      <th>Arr_hour</th>\n",
       "      <th>Arr_min</th>\n",
       "      <th>Dur_hour</th>\n",
       "      <th>Dur_min</th>\n",
       "    </tr>\n",
       "  </thead>\n",
       "  <tbody>\n",
       "    <tr>\n",
       "      <th>0</th>\n",
       "      <td>Air India</td>\n",
       "      <td>₹ 2,341</td>\n",
       "      <td>New Delhi</td>\n",
       "      <td>Chennai</td>\n",
       "      <td>Non stop</td>\n",
       "      <td>7</td>\n",
       "      <td>25</td>\n",
       "      <td>10</td>\n",
       "      <td>15</td>\n",
       "      <td>2</td>\n",
       "      <td>50</td>\n",
       "    </tr>\n",
       "    <tr>\n",
       "      <th>1</th>\n",
       "      <td>Air India</td>\n",
       "      <td>₹ 2,341</td>\n",
       "      <td>New Delhi</td>\n",
       "      <td>Chennai</td>\n",
       "      <td>Non stop</td>\n",
       "      <td>12</td>\n",
       "      <td>45</td>\n",
       "      <td>15</td>\n",
       "      <td>40</td>\n",
       "      <td>2</td>\n",
       "      <td>55</td>\n",
       "    </tr>\n",
       "    <tr>\n",
       "      <th>2</th>\n",
       "      <td>Air India</td>\n",
       "      <td>₹ 2,343</td>\n",
       "      <td>New Delhi</td>\n",
       "      <td>Chennai</td>\n",
       "      <td>1 stop via Bengaluru</td>\n",
       "      <td>9</td>\n",
       "      <td>15</td>\n",
       "      <td>15</td>\n",
       "      <td>55</td>\n",
       "      <td>6</td>\n",
       "      <td>40</td>\n",
       "    </tr>\n",
       "    <tr>\n",
       "      <th>3</th>\n",
       "      <td>Spicejet</td>\n",
       "      <td>₹ 2,343</td>\n",
       "      <td>New Delhi</td>\n",
       "      <td>Chennai</td>\n",
       "      <td>1 stop via Bengaluru</td>\n",
       "      <td>8</td>\n",
       "      <td>20</td>\n",
       "      <td>15</td>\n",
       "      <td>55</td>\n",
       "      <td>7</td>\n",
       "      <td>35</td>\n",
       "    </tr>\n",
       "    <tr>\n",
       "      <th>4</th>\n",
       "      <td>Spicejet</td>\n",
       "      <td>₹ 2,343</td>\n",
       "      <td>New Delhi</td>\n",
       "      <td>Chennai</td>\n",
       "      <td>1 stop via Bengaluru</td>\n",
       "      <td>6</td>\n",
       "      <td>10</td>\n",
       "      <td>15</td>\n",
       "      <td>55</td>\n",
       "      <td>9</td>\n",
       "      <td>45</td>\n",
       "    </tr>\n",
       "  </tbody>\n",
       "</table>\n",
       "</div>"
      ],
      "text/plain": [
       "        Name    Price Departure_Place Arrival_Place           total_stops  \\\n",
       "0  Air India  ₹ 2,341       New Delhi       Chennai              Non stop   \n",
       "1  Air India  ₹ 2,341       New Delhi       Chennai              Non stop   \n",
       "2  Air India  ₹ 2,343       New Delhi       Chennai  1 stop via Bengaluru   \n",
       "3   Spicejet  ₹ 2,343       New Delhi       Chennai  1 stop via Bengaluru   \n",
       "4   Spicejet  ₹ 2,343       New Delhi       Chennai  1 stop via Bengaluru   \n",
       "\n",
       "   Dep_hour  Dep_min  Arr_hour  Arr_min  Dur_hour  Dur_min  \n",
       "0         7       25        10       15         2       50  \n",
       "1        12       45        15       40         2       55  \n",
       "2         9       15        15       55         6       40  \n",
       "3         8       20        15       55         7       35  \n",
       "4         6       10        15       55         9       45  "
      ]
     },
     "execution_count": 28,
     "metadata": {},
     "output_type": "execute_result"
    }
   ],
   "source": [
    "df.head()"
   ]
  },
  {
   "cell_type": "code",
   "execution_count": 29,
   "metadata": {},
   "outputs": [
    {
     "data": {
      "text/html": [
       "<div>\n",
       "<style scoped>\n",
       "    .dataframe tbody tr th:only-of-type {\n",
       "        vertical-align: middle;\n",
       "    }\n",
       "\n",
       "    .dataframe tbody tr th {\n",
       "        vertical-align: top;\n",
       "    }\n",
       "\n",
       "    .dataframe thead th {\n",
       "        text-align: right;\n",
       "    }\n",
       "</style>\n",
       "<table border=\"1\" class=\"dataframe\">\n",
       "  <thead>\n",
       "    <tr style=\"text-align: right;\">\n",
       "      <th></th>\n",
       "      <th>Bengaluru</th>\n",
       "      <th>Chennai</th>\n",
       "      <th>Coimbatore</th>\n",
       "      <th>Kolkata</th>\n",
       "      <th>Madurai</th>\n",
       "      <th>Mumbai</th>\n",
       "      <th>New Delhi</th>\n",
       "      <th>Pune</th>\n",
       "    </tr>\n",
       "  </thead>\n",
       "  <tbody>\n",
       "    <tr>\n",
       "      <th>0</th>\n",
       "      <td>0</td>\n",
       "      <td>0</td>\n",
       "      <td>0</td>\n",
       "      <td>0</td>\n",
       "      <td>0</td>\n",
       "      <td>0</td>\n",
       "      <td>1</td>\n",
       "      <td>0</td>\n",
       "    </tr>\n",
       "    <tr>\n",
       "      <th>1</th>\n",
       "      <td>0</td>\n",
       "      <td>0</td>\n",
       "      <td>0</td>\n",
       "      <td>0</td>\n",
       "      <td>0</td>\n",
       "      <td>0</td>\n",
       "      <td>1</td>\n",
       "      <td>0</td>\n",
       "    </tr>\n",
       "    <tr>\n",
       "      <th>2</th>\n",
       "      <td>0</td>\n",
       "      <td>0</td>\n",
       "      <td>0</td>\n",
       "      <td>0</td>\n",
       "      <td>0</td>\n",
       "      <td>0</td>\n",
       "      <td>1</td>\n",
       "      <td>0</td>\n",
       "    </tr>\n",
       "    <tr>\n",
       "      <th>3</th>\n",
       "      <td>0</td>\n",
       "      <td>0</td>\n",
       "      <td>0</td>\n",
       "      <td>0</td>\n",
       "      <td>0</td>\n",
       "      <td>0</td>\n",
       "      <td>1</td>\n",
       "      <td>0</td>\n",
       "    </tr>\n",
       "    <tr>\n",
       "      <th>4</th>\n",
       "      <td>0</td>\n",
       "      <td>0</td>\n",
       "      <td>0</td>\n",
       "      <td>0</td>\n",
       "      <td>0</td>\n",
       "      <td>0</td>\n",
       "      <td>1</td>\n",
       "      <td>0</td>\n",
       "    </tr>\n",
       "  </tbody>\n",
       "</table>\n",
       "</div>"
      ],
      "text/plain": [
       "   Bengaluru  Chennai  Coimbatore  Kolkata  Madurai  Mumbai  New Delhi  Pune\n",
       "0          0        0           0        0        0       0          1     0\n",
       "1          0        0           0        0        0       0          1     0\n",
       "2          0        0           0        0        0       0          1     0\n",
       "3          0        0           0        0        0       0          1     0\n",
       "4          0        0           0        0        0       0          1     0"
      ]
     },
     "execution_count": 29,
     "metadata": {},
     "output_type": "execute_result"
    }
   ],
   "source": [
    "# As Departure Place is Nominal Categorical data we will perform OneHotEncoding\n",
    "\n",
    "Source = df[[\"Departure_Place\"]]\n",
    "\n",
    "Source = pd.get_dummies(df['Departure_Place'], drop_first= True)\n",
    "\n",
    "Source.head()"
   ]
  },
  {
   "cell_type": "code",
   "execution_count": 30,
   "metadata": {},
   "outputs": [
    {
     "data": {
      "text/html": [
       "<div>\n",
       "<style scoped>\n",
       "    .dataframe tbody tr th:only-of-type {\n",
       "        vertical-align: middle;\n",
       "    }\n",
       "\n",
       "    .dataframe tbody tr th {\n",
       "        vertical-align: top;\n",
       "    }\n",
       "\n",
       "    .dataframe thead th {\n",
       "        text-align: right;\n",
       "    }\n",
       "</style>\n",
       "<table border=\"1\" class=\"dataframe\">\n",
       "  <thead>\n",
       "    <tr style=\"text-align: right;\">\n",
       "      <th></th>\n",
       "      <th>Chennai</th>\n",
       "      <th>Goa</th>\n",
       "      <th>Hyderabad</th>\n",
       "      <th>Jaipur</th>\n",
       "      <th>Kolkata</th>\n",
       "      <th>Mumbai</th>\n",
       "      <th>New Delhi</th>\n",
       "      <th>Pune</th>\n",
       "    </tr>\n",
       "  </thead>\n",
       "  <tbody>\n",
       "    <tr>\n",
       "      <th>0</th>\n",
       "      <td>1</td>\n",
       "      <td>0</td>\n",
       "      <td>0</td>\n",
       "      <td>0</td>\n",
       "      <td>0</td>\n",
       "      <td>0</td>\n",
       "      <td>0</td>\n",
       "      <td>0</td>\n",
       "    </tr>\n",
       "    <tr>\n",
       "      <th>1</th>\n",
       "      <td>1</td>\n",
       "      <td>0</td>\n",
       "      <td>0</td>\n",
       "      <td>0</td>\n",
       "      <td>0</td>\n",
       "      <td>0</td>\n",
       "      <td>0</td>\n",
       "      <td>0</td>\n",
       "    </tr>\n",
       "    <tr>\n",
       "      <th>2</th>\n",
       "      <td>1</td>\n",
       "      <td>0</td>\n",
       "      <td>0</td>\n",
       "      <td>0</td>\n",
       "      <td>0</td>\n",
       "      <td>0</td>\n",
       "      <td>0</td>\n",
       "      <td>0</td>\n",
       "    </tr>\n",
       "    <tr>\n",
       "      <th>3</th>\n",
       "      <td>1</td>\n",
       "      <td>0</td>\n",
       "      <td>0</td>\n",
       "      <td>0</td>\n",
       "      <td>0</td>\n",
       "      <td>0</td>\n",
       "      <td>0</td>\n",
       "      <td>0</td>\n",
       "    </tr>\n",
       "    <tr>\n",
       "      <th>4</th>\n",
       "      <td>1</td>\n",
       "      <td>0</td>\n",
       "      <td>0</td>\n",
       "      <td>0</td>\n",
       "      <td>0</td>\n",
       "      <td>0</td>\n",
       "      <td>0</td>\n",
       "      <td>0</td>\n",
       "    </tr>\n",
       "  </tbody>\n",
       "</table>\n",
       "</div>"
      ],
      "text/plain": [
       "   Chennai  Goa  Hyderabad  Jaipur  Kolkata  Mumbai  New Delhi  Pune\n",
       "0        1    0          0       0        0       0          0     0\n",
       "1        1    0          0       0        0       0          0     0\n",
       "2        1    0          0       0        0       0          0     0\n",
       "3        1    0          0       0        0       0          0     0\n",
       "4        1    0          0       0        0       0          0     0"
      ]
     },
     "execution_count": 30,
     "metadata": {},
     "output_type": "execute_result"
    }
   ],
   "source": [
    "# As Arrival Place is Nominal Categorical data we will perform OneHotEncoding\n",
    "\n",
    "Destination = df[[\"Arrival_Place\"]]\n",
    "\n",
    "Destination = pd.get_dummies(df['Arrival_Place'], drop_first= True)\n",
    "\n",
    "Destination.head()"
   ]
  },
  {
   "cell_type": "markdown",
   "metadata": {},
   "source": [
    "### Ordinal Categorical data"
   ]
  },
  {
   "cell_type": "markdown",
   "metadata": {},
   "source": [
    "--->Total_Stops"
   ]
  },
  {
   "cell_type": "code",
   "execution_count": 31,
   "metadata": {},
   "outputs": [
    {
     "data": {
      "text/plain": [
       "Non stop                       5082\n",
       "1 stop via Bengaluru            645\n",
       "1 stop via Hyderabad            626\n",
       "1 stop via Patna                330\n",
       "1 stop via Mumbai               276\n",
       "1 stop via Chennai              226\n",
       "1 stop via Pune                 145\n",
       "1 stop via Raipur               145\n",
       "1 stop via Bhopal               120\n",
       "2 stop via Hyderabad,Mysore      80\n",
       "1 stop via Bhubaneswar           40\n",
       "1 stop via Nagpur                40\n",
       "1 stop via Surat                 40\n",
       "1 stop via Hubli                 40\n",
       "1 stop via Chandigarh            40\n",
       "1 stop via Nasik                 40\n",
       "1 stop via New Delhi             39\n",
       "1 stop via Indore                36\n",
       "Name: total_stops, dtype: int64"
      ]
     },
     "execution_count": 31,
     "metadata": {},
     "output_type": "execute_result"
    }
   ],
   "source": [
    "df[\"total_stops\"].value_counts()"
   ]
  },
  {
   "cell_type": "code",
   "execution_count": 32,
   "metadata": {},
   "outputs": [],
   "source": [
    "# As this is case of Ordinal Categorical type we perform LabelEncoder\n",
    "# Here Values are assigned with corresponding keys\n",
    "\n",
    "df.replace({\"Non stop\": 0, \"1 stop via Bengaluru\": 1, \"1 stop via Hyderabad\": 2, \"1 stop via Patna\": 3,\n",
    "        \"1 stop via Mumbai\": 4, \"1 stop via Chennai\": 5, \"1 stop via Raipur\" :6,\n",
    "            \"1 stop via Pune\": 7, \"1 stop via Bhopal\": 8, \"2 stop via Hyderabad,Mysore\":9,\n",
    "             \"1 stop via Surat\" : 10, \"1 stop via Hubli\" :11, '1 stop via Nasik' :12,\n",
    "            \"1 stop via Chandigarh\":13, \"1 stop via Bhubaneswar\": 14, \"1 stop via Nagpur\":15,\n",
    "            \"1 stop via New Delhi\":16, \"1 stop via Indore\":17}, inplace = True)"
   ]
  },
  {
   "cell_type": "code",
   "execution_count": 33,
   "metadata": {},
   "outputs": [],
   "source": [
    "# removing ₹ from Price column and changing it to int type\n",
    "for i in range(0,7990):\n",
    "    df[\"Price\"][i] =df[\"Price\"][i].replace(\"₹\", \"\").replace(\",\", \"\")\n",
    "    \n",
    "    \n",
    "df[\"Price\"] =  pd.to_numeric(df[\"Price\"])"
   ]
  },
  {
   "cell_type": "code",
   "execution_count": 34,
   "metadata": {},
   "outputs": [],
   "source": [
    "# Concatenate dataframe --> train_data + Airline + Source + Destination+Price\n",
    "\n",
    "df_train = pd.concat([df, Name, Source, Destination, df['Price']], axis = 1)"
   ]
  },
  {
   "cell_type": "code",
   "execution_count": 35,
   "metadata": {},
   "outputs": [
    {
     "data": {
      "text/html": [
       "<div>\n",
       "<style scoped>\n",
       "    .dataframe tbody tr th:only-of-type {\n",
       "        vertical-align: middle;\n",
       "    }\n",
       "\n",
       "    .dataframe tbody tr th {\n",
       "        vertical-align: top;\n",
       "    }\n",
       "\n",
       "    .dataframe thead th {\n",
       "        text-align: right;\n",
       "    }\n",
       "</style>\n",
       "<table border=\"1\" class=\"dataframe\">\n",
       "  <thead>\n",
       "    <tr style=\"text-align: right;\">\n",
       "      <th></th>\n",
       "      <th>Name</th>\n",
       "      <th>Price</th>\n",
       "      <th>Departure_Place</th>\n",
       "      <th>Arrival_Place</th>\n",
       "      <th>total_stops</th>\n",
       "      <th>Dep_hour</th>\n",
       "      <th>Dep_min</th>\n",
       "      <th>Arr_hour</th>\n",
       "      <th>Arr_min</th>\n",
       "      <th>Dur_hour</th>\n",
       "      <th>Dur_min</th>\n",
       "      <th>Name_Air India, AirAsia</th>\n",
       "      <th>Name_AirAsia</th>\n",
       "      <th>Name_Go First</th>\n",
       "      <th>Name_Go First, Air India</th>\n",
       "      <th>Name_Go First, AirAsia</th>\n",
       "      <th>Name_IndiGo</th>\n",
       "      <th>Name_Spicejet</th>\n",
       "      <th>Name_Vistara</th>\n",
       "      <th>Bengaluru</th>\n",
       "      <th>Chennai</th>\n",
       "      <th>Coimbatore</th>\n",
       "      <th>Kolkata</th>\n",
       "      <th>Madurai</th>\n",
       "      <th>Mumbai</th>\n",
       "      <th>New Delhi</th>\n",
       "      <th>Pune</th>\n",
       "      <th>Chennai</th>\n",
       "      <th>Goa</th>\n",
       "      <th>Hyderabad</th>\n",
       "      <th>Jaipur</th>\n",
       "      <th>Kolkata</th>\n",
       "      <th>Mumbai</th>\n",
       "      <th>New Delhi</th>\n",
       "      <th>Pune</th>\n",
       "      <th>Price</th>\n",
       "    </tr>\n",
       "  </thead>\n",
       "  <tbody>\n",
       "    <tr>\n",
       "      <th>0</th>\n",
       "      <td>Air India</td>\n",
       "      <td>2341</td>\n",
       "      <td>New Delhi</td>\n",
       "      <td>Chennai</td>\n",
       "      <td>0</td>\n",
       "      <td>7</td>\n",
       "      <td>25</td>\n",
       "      <td>10</td>\n",
       "      <td>15</td>\n",
       "      <td>2</td>\n",
       "      <td>50</td>\n",
       "      <td>0</td>\n",
       "      <td>0</td>\n",
       "      <td>0</td>\n",
       "      <td>0</td>\n",
       "      <td>0</td>\n",
       "      <td>0</td>\n",
       "      <td>0</td>\n",
       "      <td>0</td>\n",
       "      <td>0</td>\n",
       "      <td>0</td>\n",
       "      <td>0</td>\n",
       "      <td>0</td>\n",
       "      <td>0</td>\n",
       "      <td>0</td>\n",
       "      <td>1</td>\n",
       "      <td>0</td>\n",
       "      <td>1</td>\n",
       "      <td>0</td>\n",
       "      <td>0</td>\n",
       "      <td>0</td>\n",
       "      <td>0</td>\n",
       "      <td>0</td>\n",
       "      <td>0</td>\n",
       "      <td>0</td>\n",
       "      <td>2341</td>\n",
       "    </tr>\n",
       "    <tr>\n",
       "      <th>1</th>\n",
       "      <td>Air India</td>\n",
       "      <td>2341</td>\n",
       "      <td>New Delhi</td>\n",
       "      <td>Chennai</td>\n",
       "      <td>0</td>\n",
       "      <td>12</td>\n",
       "      <td>45</td>\n",
       "      <td>15</td>\n",
       "      <td>40</td>\n",
       "      <td>2</td>\n",
       "      <td>55</td>\n",
       "      <td>0</td>\n",
       "      <td>0</td>\n",
       "      <td>0</td>\n",
       "      <td>0</td>\n",
       "      <td>0</td>\n",
       "      <td>0</td>\n",
       "      <td>0</td>\n",
       "      <td>0</td>\n",
       "      <td>0</td>\n",
       "      <td>0</td>\n",
       "      <td>0</td>\n",
       "      <td>0</td>\n",
       "      <td>0</td>\n",
       "      <td>0</td>\n",
       "      <td>1</td>\n",
       "      <td>0</td>\n",
       "      <td>1</td>\n",
       "      <td>0</td>\n",
       "      <td>0</td>\n",
       "      <td>0</td>\n",
       "      <td>0</td>\n",
       "      <td>0</td>\n",
       "      <td>0</td>\n",
       "      <td>0</td>\n",
       "      <td>2341</td>\n",
       "    </tr>\n",
       "    <tr>\n",
       "      <th>2</th>\n",
       "      <td>Air India</td>\n",
       "      <td>2343</td>\n",
       "      <td>New Delhi</td>\n",
       "      <td>Chennai</td>\n",
       "      <td>1</td>\n",
       "      <td>9</td>\n",
       "      <td>15</td>\n",
       "      <td>15</td>\n",
       "      <td>55</td>\n",
       "      <td>6</td>\n",
       "      <td>40</td>\n",
       "      <td>0</td>\n",
       "      <td>0</td>\n",
       "      <td>0</td>\n",
       "      <td>0</td>\n",
       "      <td>0</td>\n",
       "      <td>0</td>\n",
       "      <td>0</td>\n",
       "      <td>0</td>\n",
       "      <td>0</td>\n",
       "      <td>0</td>\n",
       "      <td>0</td>\n",
       "      <td>0</td>\n",
       "      <td>0</td>\n",
       "      <td>0</td>\n",
       "      <td>1</td>\n",
       "      <td>0</td>\n",
       "      <td>1</td>\n",
       "      <td>0</td>\n",
       "      <td>0</td>\n",
       "      <td>0</td>\n",
       "      <td>0</td>\n",
       "      <td>0</td>\n",
       "      <td>0</td>\n",
       "      <td>0</td>\n",
       "      <td>2343</td>\n",
       "    </tr>\n",
       "    <tr>\n",
       "      <th>3</th>\n",
       "      <td>Spicejet</td>\n",
       "      <td>2343</td>\n",
       "      <td>New Delhi</td>\n",
       "      <td>Chennai</td>\n",
       "      <td>1</td>\n",
       "      <td>8</td>\n",
       "      <td>20</td>\n",
       "      <td>15</td>\n",
       "      <td>55</td>\n",
       "      <td>7</td>\n",
       "      <td>35</td>\n",
       "      <td>0</td>\n",
       "      <td>0</td>\n",
       "      <td>0</td>\n",
       "      <td>0</td>\n",
       "      <td>0</td>\n",
       "      <td>0</td>\n",
       "      <td>1</td>\n",
       "      <td>0</td>\n",
       "      <td>0</td>\n",
       "      <td>0</td>\n",
       "      <td>0</td>\n",
       "      <td>0</td>\n",
       "      <td>0</td>\n",
       "      <td>0</td>\n",
       "      <td>1</td>\n",
       "      <td>0</td>\n",
       "      <td>1</td>\n",
       "      <td>0</td>\n",
       "      <td>0</td>\n",
       "      <td>0</td>\n",
       "      <td>0</td>\n",
       "      <td>0</td>\n",
       "      <td>0</td>\n",
       "      <td>0</td>\n",
       "      <td>2343</td>\n",
       "    </tr>\n",
       "    <tr>\n",
       "      <th>4</th>\n",
       "      <td>Spicejet</td>\n",
       "      <td>2343</td>\n",
       "      <td>New Delhi</td>\n",
       "      <td>Chennai</td>\n",
       "      <td>1</td>\n",
       "      <td>6</td>\n",
       "      <td>10</td>\n",
       "      <td>15</td>\n",
       "      <td>55</td>\n",
       "      <td>9</td>\n",
       "      <td>45</td>\n",
       "      <td>0</td>\n",
       "      <td>0</td>\n",
       "      <td>0</td>\n",
       "      <td>0</td>\n",
       "      <td>0</td>\n",
       "      <td>0</td>\n",
       "      <td>1</td>\n",
       "      <td>0</td>\n",
       "      <td>0</td>\n",
       "      <td>0</td>\n",
       "      <td>0</td>\n",
       "      <td>0</td>\n",
       "      <td>0</td>\n",
       "      <td>0</td>\n",
       "      <td>1</td>\n",
       "      <td>0</td>\n",
       "      <td>1</td>\n",
       "      <td>0</td>\n",
       "      <td>0</td>\n",
       "      <td>0</td>\n",
       "      <td>0</td>\n",
       "      <td>0</td>\n",
       "      <td>0</td>\n",
       "      <td>0</td>\n",
       "      <td>2343</td>\n",
       "    </tr>\n",
       "  </tbody>\n",
       "</table>\n",
       "</div>"
      ],
      "text/plain": [
       "        Name  Price Departure_Place Arrival_Place  total_stops  Dep_hour  \\\n",
       "0  Air India   2341       New Delhi       Chennai            0         7   \n",
       "1  Air India   2341       New Delhi       Chennai            0        12   \n",
       "2  Air India   2343       New Delhi       Chennai            1         9   \n",
       "3   Spicejet   2343       New Delhi       Chennai            1         8   \n",
       "4   Spicejet   2343       New Delhi       Chennai            1         6   \n",
       "\n",
       "   Dep_min  Arr_hour  Arr_min  Dur_hour  Dur_min  Name_Air India, AirAsia  \\\n",
       "0       25        10       15         2       50                        0   \n",
       "1       45        15       40         2       55                        0   \n",
       "2       15        15       55         6       40                        0   \n",
       "3       20        15       55         7       35                        0   \n",
       "4       10        15       55         9       45                        0   \n",
       "\n",
       "   Name_AirAsia  Name_Go First  Name_Go First, Air India  \\\n",
       "0             0              0                         0   \n",
       "1             0              0                         0   \n",
       "2             0              0                         0   \n",
       "3             0              0                         0   \n",
       "4             0              0                         0   \n",
       "\n",
       "   Name_Go First, AirAsia  Name_IndiGo  Name_Spicejet  Name_Vistara  \\\n",
       "0                       0            0              0             0   \n",
       "1                       0            0              0             0   \n",
       "2                       0            0              0             0   \n",
       "3                       0            0              1             0   \n",
       "4                       0            0              1             0   \n",
       "\n",
       "   Bengaluru  Chennai  Coimbatore  Kolkata  Madurai  Mumbai  New Delhi  Pune  \\\n",
       "0          0        0           0        0        0       0          1     0   \n",
       "1          0        0           0        0        0       0          1     0   \n",
       "2          0        0           0        0        0       0          1     0   \n",
       "3          0        0           0        0        0       0          1     0   \n",
       "4          0        0           0        0        0       0          1     0   \n",
       "\n",
       "   Chennai  Goa  Hyderabad  Jaipur  Kolkata  Mumbai  New Delhi  Pune  Price  \n",
       "0        1    0          0       0        0       0          0     0   2341  \n",
       "1        1    0          0       0        0       0          0     0   2341  \n",
       "2        1    0          0       0        0       0          0     0   2343  \n",
       "3        1    0          0       0        0       0          0     0   2343  \n",
       "4        1    0          0       0        0       0          0     0   2343  "
      ]
     },
     "execution_count": 35,
     "metadata": {},
     "output_type": "execute_result"
    }
   ],
   "source": [
    "df_train.head()"
   ]
  },
  {
   "cell_type": "markdown",
   "metadata": {},
   "source": [
    "Now, we can see that the data is encoded and the new column that we have created are added to the dataset.<br><br> Dropping \"Name\", \"Departure_Place\", \"Arrival_Place\" as new columns with encoded data has been added."
   ]
  },
  {
   "cell_type": "code",
   "execution_count": 36,
   "metadata": {},
   "outputs": [],
   "source": [
    "df_train.drop([\"Name\", \"Departure_Place\", \"Arrival_Place\"], axis = 1, inplace = True)"
   ]
  },
  {
   "cell_type": "code",
   "execution_count": 37,
   "metadata": {},
   "outputs": [
    {
     "data": {
      "text/html": [
       "<div>\n",
       "<style scoped>\n",
       "    .dataframe tbody tr th:only-of-type {\n",
       "        vertical-align: middle;\n",
       "    }\n",
       "\n",
       "    .dataframe tbody tr th {\n",
       "        vertical-align: top;\n",
       "    }\n",
       "\n",
       "    .dataframe thead th {\n",
       "        text-align: right;\n",
       "    }\n",
       "</style>\n",
       "<table border=\"1\" class=\"dataframe\">\n",
       "  <thead>\n",
       "    <tr style=\"text-align: right;\">\n",
       "      <th></th>\n",
       "      <th>Price</th>\n",
       "      <th>total_stops</th>\n",
       "      <th>Dep_hour</th>\n",
       "      <th>Dep_min</th>\n",
       "      <th>Arr_hour</th>\n",
       "      <th>Arr_min</th>\n",
       "      <th>Dur_hour</th>\n",
       "      <th>Dur_min</th>\n",
       "      <th>Name_Air India, AirAsia</th>\n",
       "      <th>Name_AirAsia</th>\n",
       "      <th>Name_Go First</th>\n",
       "      <th>Name_Go First, Air India</th>\n",
       "      <th>Name_Go First, AirAsia</th>\n",
       "      <th>Name_IndiGo</th>\n",
       "      <th>Name_Spicejet</th>\n",
       "      <th>Name_Vistara</th>\n",
       "      <th>Bengaluru</th>\n",
       "      <th>Chennai</th>\n",
       "      <th>Coimbatore</th>\n",
       "      <th>Kolkata</th>\n",
       "      <th>Madurai</th>\n",
       "      <th>Mumbai</th>\n",
       "      <th>New Delhi</th>\n",
       "      <th>Pune</th>\n",
       "      <th>Chennai</th>\n",
       "      <th>Goa</th>\n",
       "      <th>Hyderabad</th>\n",
       "      <th>Jaipur</th>\n",
       "      <th>Kolkata</th>\n",
       "      <th>Mumbai</th>\n",
       "      <th>New Delhi</th>\n",
       "      <th>Pune</th>\n",
       "      <th>Price</th>\n",
       "    </tr>\n",
       "  </thead>\n",
       "  <tbody>\n",
       "    <tr>\n",
       "      <th>0</th>\n",
       "      <td>2341</td>\n",
       "      <td>0</td>\n",
       "      <td>7</td>\n",
       "      <td>25</td>\n",
       "      <td>10</td>\n",
       "      <td>15</td>\n",
       "      <td>2</td>\n",
       "      <td>50</td>\n",
       "      <td>0</td>\n",
       "      <td>0</td>\n",
       "      <td>0</td>\n",
       "      <td>0</td>\n",
       "      <td>0</td>\n",
       "      <td>0</td>\n",
       "      <td>0</td>\n",
       "      <td>0</td>\n",
       "      <td>0</td>\n",
       "      <td>0</td>\n",
       "      <td>0</td>\n",
       "      <td>0</td>\n",
       "      <td>0</td>\n",
       "      <td>0</td>\n",
       "      <td>1</td>\n",
       "      <td>0</td>\n",
       "      <td>1</td>\n",
       "      <td>0</td>\n",
       "      <td>0</td>\n",
       "      <td>0</td>\n",
       "      <td>0</td>\n",
       "      <td>0</td>\n",
       "      <td>0</td>\n",
       "      <td>0</td>\n",
       "      <td>2341</td>\n",
       "    </tr>\n",
       "    <tr>\n",
       "      <th>1</th>\n",
       "      <td>2341</td>\n",
       "      <td>0</td>\n",
       "      <td>12</td>\n",
       "      <td>45</td>\n",
       "      <td>15</td>\n",
       "      <td>40</td>\n",
       "      <td>2</td>\n",
       "      <td>55</td>\n",
       "      <td>0</td>\n",
       "      <td>0</td>\n",
       "      <td>0</td>\n",
       "      <td>0</td>\n",
       "      <td>0</td>\n",
       "      <td>0</td>\n",
       "      <td>0</td>\n",
       "      <td>0</td>\n",
       "      <td>0</td>\n",
       "      <td>0</td>\n",
       "      <td>0</td>\n",
       "      <td>0</td>\n",
       "      <td>0</td>\n",
       "      <td>0</td>\n",
       "      <td>1</td>\n",
       "      <td>0</td>\n",
       "      <td>1</td>\n",
       "      <td>0</td>\n",
       "      <td>0</td>\n",
       "      <td>0</td>\n",
       "      <td>0</td>\n",
       "      <td>0</td>\n",
       "      <td>0</td>\n",
       "      <td>0</td>\n",
       "      <td>2341</td>\n",
       "    </tr>\n",
       "    <tr>\n",
       "      <th>2</th>\n",
       "      <td>2343</td>\n",
       "      <td>1</td>\n",
       "      <td>9</td>\n",
       "      <td>15</td>\n",
       "      <td>15</td>\n",
       "      <td>55</td>\n",
       "      <td>6</td>\n",
       "      <td>40</td>\n",
       "      <td>0</td>\n",
       "      <td>0</td>\n",
       "      <td>0</td>\n",
       "      <td>0</td>\n",
       "      <td>0</td>\n",
       "      <td>0</td>\n",
       "      <td>0</td>\n",
       "      <td>0</td>\n",
       "      <td>0</td>\n",
       "      <td>0</td>\n",
       "      <td>0</td>\n",
       "      <td>0</td>\n",
       "      <td>0</td>\n",
       "      <td>0</td>\n",
       "      <td>1</td>\n",
       "      <td>0</td>\n",
       "      <td>1</td>\n",
       "      <td>0</td>\n",
       "      <td>0</td>\n",
       "      <td>0</td>\n",
       "      <td>0</td>\n",
       "      <td>0</td>\n",
       "      <td>0</td>\n",
       "      <td>0</td>\n",
       "      <td>2343</td>\n",
       "    </tr>\n",
       "    <tr>\n",
       "      <th>3</th>\n",
       "      <td>2343</td>\n",
       "      <td>1</td>\n",
       "      <td>8</td>\n",
       "      <td>20</td>\n",
       "      <td>15</td>\n",
       "      <td>55</td>\n",
       "      <td>7</td>\n",
       "      <td>35</td>\n",
       "      <td>0</td>\n",
       "      <td>0</td>\n",
       "      <td>0</td>\n",
       "      <td>0</td>\n",
       "      <td>0</td>\n",
       "      <td>0</td>\n",
       "      <td>1</td>\n",
       "      <td>0</td>\n",
       "      <td>0</td>\n",
       "      <td>0</td>\n",
       "      <td>0</td>\n",
       "      <td>0</td>\n",
       "      <td>0</td>\n",
       "      <td>0</td>\n",
       "      <td>1</td>\n",
       "      <td>0</td>\n",
       "      <td>1</td>\n",
       "      <td>0</td>\n",
       "      <td>0</td>\n",
       "      <td>0</td>\n",
       "      <td>0</td>\n",
       "      <td>0</td>\n",
       "      <td>0</td>\n",
       "      <td>0</td>\n",
       "      <td>2343</td>\n",
       "    </tr>\n",
       "    <tr>\n",
       "      <th>4</th>\n",
       "      <td>2343</td>\n",
       "      <td>1</td>\n",
       "      <td>6</td>\n",
       "      <td>10</td>\n",
       "      <td>15</td>\n",
       "      <td>55</td>\n",
       "      <td>9</td>\n",
       "      <td>45</td>\n",
       "      <td>0</td>\n",
       "      <td>0</td>\n",
       "      <td>0</td>\n",
       "      <td>0</td>\n",
       "      <td>0</td>\n",
       "      <td>0</td>\n",
       "      <td>1</td>\n",
       "      <td>0</td>\n",
       "      <td>0</td>\n",
       "      <td>0</td>\n",
       "      <td>0</td>\n",
       "      <td>0</td>\n",
       "      <td>0</td>\n",
       "      <td>0</td>\n",
       "      <td>1</td>\n",
       "      <td>0</td>\n",
       "      <td>1</td>\n",
       "      <td>0</td>\n",
       "      <td>0</td>\n",
       "      <td>0</td>\n",
       "      <td>0</td>\n",
       "      <td>0</td>\n",
       "      <td>0</td>\n",
       "      <td>0</td>\n",
       "      <td>2343</td>\n",
       "    </tr>\n",
       "  </tbody>\n",
       "</table>\n",
       "</div>"
      ],
      "text/plain": [
       "   Price  total_stops  Dep_hour  Dep_min  Arr_hour  Arr_min  Dur_hour  \\\n",
       "0   2341            0         7       25        10       15         2   \n",
       "1   2341            0        12       45        15       40         2   \n",
       "2   2343            1         9       15        15       55         6   \n",
       "3   2343            1         8       20        15       55         7   \n",
       "4   2343            1         6       10        15       55         9   \n",
       "\n",
       "   Dur_min  Name_Air India, AirAsia  Name_AirAsia  Name_Go First  \\\n",
       "0       50                        0             0              0   \n",
       "1       55                        0             0              0   \n",
       "2       40                        0             0              0   \n",
       "3       35                        0             0              0   \n",
       "4       45                        0             0              0   \n",
       "\n",
       "   Name_Go First, Air India  Name_Go First, AirAsia  Name_IndiGo  \\\n",
       "0                         0                       0            0   \n",
       "1                         0                       0            0   \n",
       "2                         0                       0            0   \n",
       "3                         0                       0            0   \n",
       "4                         0                       0            0   \n",
       "\n",
       "   Name_Spicejet  Name_Vistara  Bengaluru  Chennai  Coimbatore  Kolkata  \\\n",
       "0              0             0          0        0           0        0   \n",
       "1              0             0          0        0           0        0   \n",
       "2              0             0          0        0           0        0   \n",
       "3              1             0          0        0           0        0   \n",
       "4              1             0          0        0           0        0   \n",
       "\n",
       "   Madurai  Mumbai  New Delhi  Pune  Chennai  Goa  Hyderabad  Jaipur  Kolkata  \\\n",
       "0        0       0          1     0        1    0          0       0        0   \n",
       "1        0       0          1     0        1    0          0       0        0   \n",
       "2        0       0          1     0        1    0          0       0        0   \n",
       "3        0       0          1     0        1    0          0       0        0   \n",
       "4        0       0          1     0        1    0          0       0        0   \n",
       "\n",
       "   Mumbai  New Delhi  Pune  Price  \n",
       "0       0          0     0   2341  \n",
       "1       0          0     0   2341  \n",
       "2       0          0     0   2343  \n",
       "3       0          0     0   2343  \n",
       "4       0          0     0   2343  "
      ]
     },
     "execution_count": 37,
     "metadata": {},
     "output_type": "execute_result"
    }
   ],
   "source": [
    "df_train.head()"
   ]
  },
  {
   "cell_type": "markdown",
   "metadata": {},
   "source": [
    "Now all the data is encoded. We can create the model."
   ]
  },
  {
   "cell_type": "markdown",
   "metadata": {},
   "source": [
    "**Correlation**"
   ]
  },
  {
   "cell_type": "code",
   "execution_count": 38,
   "metadata": {},
   "outputs": [
    {
     "data": {
      "image/png": "[encoded data removed]",
      "text/plain": [
       "<Figure size 1440x576 with 2 Axes>"
      ]
     },
     "metadata": {
      "needs_background": "light"
     },
     "output_type": "display_data"
    }
   ],
   "source": [
    "plt.figure(figsize=(20,8))\n",
    "sns.heatmap(df.corr(),linewidths=.1,cmap=\"ocean_r\", annot=True)\n",
    "plt.yticks(rotation=0);"
   ]
  },
  {
   "cell_type": "markdown",
   "metadata": {},
   "source": [
    "**Statistical Description**"
   ]
  },
  {
   "cell_type": "code",
   "execution_count": 39,
   "metadata": {},
   "outputs": [
    {
     "data": {
      "text/html": [
       "<div>\n",
       "<style scoped>\n",
       "    .dataframe tbody tr th:only-of-type {\n",
       "        vertical-align: middle;\n",
       "    }\n",
       "\n",
       "    .dataframe tbody tr th {\n",
       "        vertical-align: top;\n",
       "    }\n",
       "\n",
       "    .dataframe thead th {\n",
       "        text-align: right;\n",
       "    }\n",
       "</style>\n",
       "<table border=\"1\" class=\"dataframe\">\n",
       "  <thead>\n",
       "    <tr style=\"text-align: right;\">\n",
       "      <th></th>\n",
       "      <th>Price</th>\n",
       "      <th>total_stops</th>\n",
       "      <th>Dep_hour</th>\n",
       "      <th>Dep_min</th>\n",
       "      <th>Arr_hour</th>\n",
       "      <th>Arr_min</th>\n",
       "      <th>Dur_hour</th>\n",
       "      <th>Dur_min</th>\n",
       "      <th>Name_Air India, AirAsia</th>\n",
       "      <th>Name_AirAsia</th>\n",
       "      <th>Name_Go First</th>\n",
       "      <th>Name_Go First, Air India</th>\n",
       "      <th>Name_Go First, AirAsia</th>\n",
       "      <th>Name_IndiGo</th>\n",
       "      <th>Name_Spicejet</th>\n",
       "      <th>Name_Vistara</th>\n",
       "      <th>Bengaluru</th>\n",
       "      <th>Chennai</th>\n",
       "      <th>Coimbatore</th>\n",
       "      <th>Kolkata</th>\n",
       "      <th>Madurai</th>\n",
       "      <th>Mumbai</th>\n",
       "      <th>New Delhi</th>\n",
       "      <th>Pune</th>\n",
       "      <th>Chennai</th>\n",
       "      <th>Goa</th>\n",
       "      <th>Hyderabad</th>\n",
       "      <th>Jaipur</th>\n",
       "      <th>Kolkata</th>\n",
       "      <th>Mumbai</th>\n",
       "      <th>New Delhi</th>\n",
       "      <th>Pune</th>\n",
       "      <th>Price</th>\n",
       "    </tr>\n",
       "  </thead>\n",
       "  <tbody>\n",
       "    <tr>\n",
       "      <th>count</th>\n",
       "      <td>7990.000000</td>\n",
       "      <td>7990.000000</td>\n",
       "      <td>7990.000000</td>\n",
       "      <td>7990.000000</td>\n",
       "      <td>7990.000000</td>\n",
       "      <td>7990.000000</td>\n",
       "      <td>7990.000000</td>\n",
       "      <td>7990.000000</td>\n",
       "      <td>7990.000000</td>\n",
       "      <td>7990.000000</td>\n",
       "      <td>7990.000000</td>\n",
       "      <td>7990.000000</td>\n",
       "      <td>7990.000000</td>\n",
       "      <td>7990.000000</td>\n",
       "      <td>7990.000000</td>\n",
       "      <td>7990.000000</td>\n",
       "      <td>7990.000000</td>\n",
       "      <td>7990.000000</td>\n",
       "      <td>7990.000000</td>\n",
       "      <td>7990.000000</td>\n",
       "      <td>7990.000000</td>\n",
       "      <td>7990.000000</td>\n",
       "      <td>7990.000000</td>\n",
       "      <td>7990.000000</td>\n",
       "      <td>7990.000000</td>\n",
       "      <td>7990.000000</td>\n",
       "      <td>7990.000000</td>\n",
       "      <td>7990.000000</td>\n",
       "      <td>7990.000000</td>\n",
       "      <td>7990.000000</td>\n",
       "      <td>7990.000000</td>\n",
       "      <td>7990.000000</td>\n",
       "      <td>7990.000000</td>\n",
       "    </tr>\n",
       "    <tr>\n",
       "      <th>mean</th>\n",
       "      <td>2746.494743</td>\n",
       "      <td>1.617272</td>\n",
       "      <td>11.276596</td>\n",
       "      <td>27.088235</td>\n",
       "      <td>13.027284</td>\n",
       "      <td>26.623905</td>\n",
       "      <td>3.352315</td>\n",
       "      <td>26.717146</td>\n",
       "      <td>0.000501</td>\n",
       "      <td>0.070213</td>\n",
       "      <td>0.181602</td>\n",
       "      <td>0.005006</td>\n",
       "      <td>0.000501</td>\n",
       "      <td>0.429912</td>\n",
       "      <td>0.108511</td>\n",
       "      <td>0.061452</td>\n",
       "      <td>0.185232</td>\n",
       "      <td>0.128160</td>\n",
       "      <td>0.030788</td>\n",
       "      <td>0.032040</td>\n",
       "      <td>0.031665</td>\n",
       "      <td>0.198623</td>\n",
       "      <td>0.217272</td>\n",
       "      <td>0.082103</td>\n",
       "      <td>0.126533</td>\n",
       "      <td>0.126158</td>\n",
       "      <td>0.128160</td>\n",
       "      <td>0.007134</td>\n",
       "      <td>0.113392</td>\n",
       "      <td>0.128160</td>\n",
       "      <td>0.128160</td>\n",
       "      <td>0.128160</td>\n",
       "      <td>2746.494743</td>\n",
       "    </tr>\n",
       "    <tr>\n",
       "      <th>std</th>\n",
       "      <td>849.270054</td>\n",
       "      <td>3.171558</td>\n",
       "      <td>5.947687</td>\n",
       "      <td>17.693489</td>\n",
       "      <td>6.070393</td>\n",
       "      <td>17.364914</td>\n",
       "      <td>3.140177</td>\n",
       "      <td>16.741505</td>\n",
       "      <td>0.022370</td>\n",
       "      <td>0.255521</td>\n",
       "      <td>0.385540</td>\n",
       "      <td>0.070582</td>\n",
       "      <td>0.022370</td>\n",
       "      <td>0.495094</td>\n",
       "      <td>0.311044</td>\n",
       "      <td>0.240172</td>\n",
       "      <td>0.388510</td>\n",
       "      <td>0.334289</td>\n",
       "      <td>0.172755</td>\n",
       "      <td>0.176117</td>\n",
       "      <td>0.175116</td>\n",
       "      <td>0.398989</td>\n",
       "      <td>0.412415</td>\n",
       "      <td>0.274538</td>\n",
       "      <td>0.332470</td>\n",
       "      <td>0.332048</td>\n",
       "      <td>0.334289</td>\n",
       "      <td>0.084166</td>\n",
       "      <td>0.317091</td>\n",
       "      <td>0.334289</td>\n",
       "      <td>0.334289</td>\n",
       "      <td>0.334289</td>\n",
       "      <td>849.270054</td>\n",
       "    </tr>\n",
       "    <tr>\n",
       "      <th>min</th>\n",
       "      <td>1552.000000</td>\n",
       "      <td>0.000000</td>\n",
       "      <td>0.000000</td>\n",
       "      <td>0.000000</td>\n",
       "      <td>0.000000</td>\n",
       "      <td>0.000000</td>\n",
       "      <td>0.000000</td>\n",
       "      <td>0.000000</td>\n",
       "      <td>0.000000</td>\n",
       "      <td>0.000000</td>\n",
       "      <td>0.000000</td>\n",
       "      <td>0.000000</td>\n",
       "      <td>0.000000</td>\n",
       "      <td>0.000000</td>\n",
       "      <td>0.000000</td>\n",
       "      <td>0.000000</td>\n",
       "      <td>0.000000</td>\n",
       "      <td>0.000000</td>\n",
       "      <td>0.000000</td>\n",
       "      <td>0.000000</td>\n",
       "      <td>0.000000</td>\n",
       "      <td>0.000000</td>\n",
       "      <td>0.000000</td>\n",
       "      <td>0.000000</td>\n",
       "      <td>0.000000</td>\n",
       "      <td>0.000000</td>\n",
       "      <td>0.000000</td>\n",
       "      <td>0.000000</td>\n",
       "      <td>0.000000</td>\n",
       "      <td>0.000000</td>\n",
       "      <td>0.000000</td>\n",
       "      <td>0.000000</td>\n",
       "      <td>1552.000000</td>\n",
       "    </tr>\n",
       "    <tr>\n",
       "      <th>25%</th>\n",
       "      <td>2111.000000</td>\n",
       "      <td>0.000000</td>\n",
       "      <td>6.000000</td>\n",
       "      <td>10.000000</td>\n",
       "      <td>8.000000</td>\n",
       "      <td>10.000000</td>\n",
       "      <td>1.000000</td>\n",
       "      <td>15.000000</td>\n",
       "      <td>0.000000</td>\n",
       "      <td>0.000000</td>\n",
       "      <td>0.000000</td>\n",
       "      <td>0.000000</td>\n",
       "      <td>0.000000</td>\n",
       "      <td>0.000000</td>\n",
       "      <td>0.000000</td>\n",
       "      <td>0.000000</td>\n",
       "      <td>0.000000</td>\n",
       "      <td>0.000000</td>\n",
       "      <td>0.000000</td>\n",
       "      <td>0.000000</td>\n",
       "      <td>0.000000</td>\n",
       "      <td>0.000000</td>\n",
       "      <td>0.000000</td>\n",
       "      <td>0.000000</td>\n",
       "      <td>0.000000</td>\n",
       "      <td>0.000000</td>\n",
       "      <td>0.000000</td>\n",
       "      <td>0.000000</td>\n",
       "      <td>0.000000</td>\n",
       "      <td>0.000000</td>\n",
       "      <td>0.000000</td>\n",
       "      <td>0.000000</td>\n",
       "      <td>2111.000000</td>\n",
       "    </tr>\n",
       "    <tr>\n",
       "      <th>50%</th>\n",
       "      <td>2482.000000</td>\n",
       "      <td>0.000000</td>\n",
       "      <td>9.000000</td>\n",
       "      <td>30.000000</td>\n",
       "      <td>13.000000</td>\n",
       "      <td>30.000000</td>\n",
       "      <td>2.000000</td>\n",
       "      <td>25.000000</td>\n",
       "      <td>0.000000</td>\n",
       "      <td>0.000000</td>\n",
       "      <td>0.000000</td>\n",
       "      <td>0.000000</td>\n",
       "      <td>0.000000</td>\n",
       "      <td>0.000000</td>\n",
       "      <td>0.000000</td>\n",
       "      <td>0.000000</td>\n",
       "      <td>0.000000</td>\n",
       "      <td>0.000000</td>\n",
       "      <td>0.000000</td>\n",
       "      <td>0.000000</td>\n",
       "      <td>0.000000</td>\n",
       "      <td>0.000000</td>\n",
       "      <td>0.000000</td>\n",
       "      <td>0.000000</td>\n",
       "      <td>0.000000</td>\n",
       "      <td>0.000000</td>\n",
       "      <td>0.000000</td>\n",
       "      <td>0.000000</td>\n",
       "      <td>0.000000</td>\n",
       "      <td>0.000000</td>\n",
       "      <td>0.000000</td>\n",
       "      <td>0.000000</td>\n",
       "      <td>2482.000000</td>\n",
       "    </tr>\n",
       "    <tr>\n",
       "      <th>75%</th>\n",
       "      <td>3238.500000</td>\n",
       "      <td>2.000000</td>\n",
       "      <td>17.000000</td>\n",
       "      <td>45.000000</td>\n",
       "      <td>19.000000</td>\n",
       "      <td>40.000000</td>\n",
       "      <td>5.000000</td>\n",
       "      <td>40.000000</td>\n",
       "      <td>0.000000</td>\n",
       "      <td>0.000000</td>\n",
       "      <td>0.000000</td>\n",
       "      <td>0.000000</td>\n",
       "      <td>0.000000</td>\n",
       "      <td>1.000000</td>\n",
       "      <td>0.000000</td>\n",
       "      <td>0.000000</td>\n",
       "      <td>0.000000</td>\n",
       "      <td>0.000000</td>\n",
       "      <td>0.000000</td>\n",
       "      <td>0.000000</td>\n",
       "      <td>0.000000</td>\n",
       "      <td>0.000000</td>\n",
       "      <td>0.000000</td>\n",
       "      <td>0.000000</td>\n",
       "      <td>0.000000</td>\n",
       "      <td>0.000000</td>\n",
       "      <td>0.000000</td>\n",
       "      <td>0.000000</td>\n",
       "      <td>0.000000</td>\n",
       "      <td>0.000000</td>\n",
       "      <td>0.000000</td>\n",
       "      <td>0.000000</td>\n",
       "      <td>3238.500000</td>\n",
       "    </tr>\n",
       "    <tr>\n",
       "      <th>max</th>\n",
       "      <td>5776.000000</td>\n",
       "      <td>17.000000</td>\n",
       "      <td>23.000000</td>\n",
       "      <td>55.000000</td>\n",
       "      <td>23.000000</td>\n",
       "      <td>55.000000</td>\n",
       "      <td>18.000000</td>\n",
       "      <td>55.000000</td>\n",
       "      <td>1.000000</td>\n",
       "      <td>1.000000</td>\n",
       "      <td>1.000000</td>\n",
       "      <td>1.000000</td>\n",
       "      <td>1.000000</td>\n",
       "      <td>1.000000</td>\n",
       "      <td>1.000000</td>\n",
       "      <td>1.000000</td>\n",
       "      <td>1.000000</td>\n",
       "      <td>1.000000</td>\n",
       "      <td>1.000000</td>\n",
       "      <td>1.000000</td>\n",
       "      <td>1.000000</td>\n",
       "      <td>1.000000</td>\n",
       "      <td>1.000000</td>\n",
       "      <td>1.000000</td>\n",
       "      <td>1.000000</td>\n",
       "      <td>1.000000</td>\n",
       "      <td>1.000000</td>\n",
       "      <td>1.000000</td>\n",
       "      <td>1.000000</td>\n",
       "      <td>1.000000</td>\n",
       "      <td>1.000000</td>\n",
       "      <td>1.000000</td>\n",
       "      <td>5776.000000</td>\n",
       "    </tr>\n",
       "  </tbody>\n",
       "</table>\n",
       "</div>"
      ],
      "text/plain": [
       "             Price  total_stops     Dep_hour      Dep_min     Arr_hour  \\\n",
       "count  7990.000000  7990.000000  7990.000000  7990.000000  7990.000000   \n",
       "mean   2746.494743     1.617272    11.276596    27.088235    13.027284   \n",
       "std     849.270054     3.171558     5.947687    17.693489     6.070393   \n",
       "min    1552.000000     0.000000     0.000000     0.000000     0.000000   \n",
       "25%    2111.000000     0.000000     6.000000    10.000000     8.000000   \n",
       "50%    2482.000000     0.000000     9.000000    30.000000    13.000000   \n",
       "75%    3238.500000     2.000000    17.000000    45.000000    19.000000   \n",
       "max    5776.000000    17.000000    23.000000    55.000000    23.000000   \n",
       "\n",
       "           Arr_min     Dur_hour      Dur_min  Name_Air India, AirAsia  \\\n",
       "count  7990.000000  7990.000000  7990.000000              7990.000000   \n",
       "mean     26.623905     3.352315    26.717146                 0.000501   \n",
       "std      17.364914     3.140177    16.741505                 0.022370   \n",
       "min       0.000000     0.000000     0.000000                 0.000000   \n",
       "25%      10.000000     1.000000    15.000000                 0.000000   \n",
       "50%      30.000000     2.000000    25.000000                 0.000000   \n",
       "75%      40.000000     5.000000    40.000000                 0.000000   \n",
       "max      55.000000    18.000000    55.000000                 1.000000   \n",
       "\n",
       "       Name_AirAsia  Name_Go First  Name_Go First, Air India  \\\n",
       "count   7990.000000    7990.000000               7990.000000   \n",
       "mean       0.070213       0.181602                  0.005006   \n",
       "std        0.255521       0.385540                  0.070582   \n",
       "min        0.000000       0.000000                  0.000000   \n",
       "25%        0.000000       0.000000                  0.000000   \n",
       "50%        0.000000       0.000000                  0.000000   \n",
       "75%        0.000000       0.000000                  0.000000   \n",
       "max        1.000000       1.000000                  1.000000   \n",
       "\n",
       "       Name_Go First, AirAsia  Name_IndiGo  Name_Spicejet  Name_Vistara  \\\n",
       "count             7990.000000  7990.000000    7990.000000   7990.000000   \n",
       "mean                 0.000501     0.429912       0.108511      0.061452   \n",
       "std                  0.022370     0.495094       0.311044      0.240172   \n",
       "min                  0.000000     0.000000       0.000000      0.000000   \n",
       "25%                  0.000000     0.000000       0.000000      0.000000   \n",
       "50%                  0.000000     0.000000       0.000000      0.000000   \n",
       "75%                  0.000000     1.000000       0.000000      0.000000   \n",
       "max                  1.000000     1.000000       1.000000      1.000000   \n",
       "\n",
       "         Bengaluru      Chennai   Coimbatore      Kolkata      Madurai  \\\n",
       "count  7990.000000  7990.000000  7990.000000  7990.000000  7990.000000   \n",
       "mean      0.185232     0.128160     0.030788     0.032040     0.031665   \n",
       "std       0.388510     0.334289     0.172755     0.176117     0.175116   \n",
       "min       0.000000     0.000000     0.000000     0.000000     0.000000   \n",
       "25%       0.000000     0.000000     0.000000     0.000000     0.000000   \n",
       "50%       0.000000     0.000000     0.000000     0.000000     0.000000   \n",
       "75%       0.000000     0.000000     0.000000     0.000000     0.000000   \n",
       "max       1.000000     1.000000     1.000000     1.000000     1.000000   \n",
       "\n",
       "            Mumbai    New Delhi         Pune      Chennai          Goa  \\\n",
       "count  7990.000000  7990.000000  7990.000000  7990.000000  7990.000000   \n",
       "mean      0.198623     0.217272     0.082103     0.126533     0.126158   \n",
       "std       0.398989     0.412415     0.274538     0.332470     0.332048   \n",
       "min       0.000000     0.000000     0.000000     0.000000     0.000000   \n",
       "25%       0.000000     0.000000     0.000000     0.000000     0.000000   \n",
       "50%       0.000000     0.000000     0.000000     0.000000     0.000000   \n",
       "75%       0.000000     0.000000     0.000000     0.000000     0.000000   \n",
       "max       1.000000     1.000000     1.000000     1.000000     1.000000   \n",
       "\n",
       "         Hyderabad       Jaipur      Kolkata       Mumbai    New Delhi  \\\n",
       "count  7990.000000  7990.000000  7990.000000  7990.000000  7990.000000   \n",
       "mean      0.128160     0.007134     0.113392     0.128160     0.128160   \n",
       "std       0.334289     0.084166     0.317091     0.334289     0.334289   \n",
       "min       0.000000     0.000000     0.000000     0.000000     0.000000   \n",
       "25%       0.000000     0.000000     0.000000     0.000000     0.000000   \n",
       "50%       0.000000     0.000000     0.000000     0.000000     0.000000   \n",
       "75%       0.000000     0.000000     0.000000     0.000000     0.000000   \n",
       "max       1.000000     1.000000     1.000000     1.000000     1.000000   \n",
       "\n",
       "              Pune        Price  \n",
       "count  7990.000000  7990.000000  \n",
       "mean      0.128160  2746.494743  \n",
       "std       0.334289   849.270054  \n",
       "min       0.000000  1552.000000  \n",
       "25%       0.000000  2111.000000  \n",
       "50%       0.000000  2482.000000  \n",
       "75%       0.000000  3238.500000  \n",
       "max       1.000000  5776.000000  "
      ]
     },
     "execution_count": 39,
     "metadata": {},
     "output_type": "execute_result"
    }
   ],
   "source": [
    "df_train.describe()"
   ]
  },
  {
   "cell_type": "markdown",
   "metadata": {},
   "source": [
    "### Predictive Modelling"
   ]
  },
  {
   "cell_type": "code",
   "execution_count": 40,
   "metadata": {},
   "outputs": [],
   "source": [
    "from sklearn.linear_model import LogisticRegression\n",
    "from sklearn import svm \n",
    "from sklearn.ensemble import RandomForestClassifier \n",
    "from sklearn.neighbors import KNeighborsClassifier \n",
    "from sklearn.naive_bayes import GaussianNB \n",
    "from sklearn.tree import DecisionTreeClassifier \n",
    "from sklearn.model_selection import train_test_split\n",
    "from sklearn import metrics \n",
    "from sklearn.metrics import confusion_matrix \n",
    "from sklearn.model_selection import GridSearchCV"
   ]
  },
  {
   "cell_type": "code",
   "execution_count": 41,
   "metadata": {},
   "outputs": [
    {
     "data": {
      "text/plain": [
       "(7990, 33)"
      ]
     },
     "execution_count": 41,
     "metadata": {},
     "output_type": "execute_result"
    }
   ],
   "source": [
    "df_train.shape"
   ]
  },
  {
   "cell_type": "code",
   "execution_count": 42,
   "metadata": {},
   "outputs": [
    {
     "data": {
      "text/plain": [
       "Index(['Price', 'total_stops', 'Dep_hour', 'Dep_min', 'Arr_hour', 'Arr_min',\n",
       "       'Dur_hour', 'Dur_min', 'Name_Air India, AirAsia', 'Name_AirAsia',\n",
       "       'Name_Go First', 'Name_Go First, Air India', 'Name_Go First, AirAsia',\n",
       "       'Name_IndiGo', 'Name_Spicejet', 'Name_Vistara', 'Bengaluru', 'Chennai',\n",
       "       'Coimbatore', 'Kolkata', 'Madurai', 'Mumbai', 'New Delhi', 'Pune',\n",
       "       'Chennai', 'Goa', 'Hyderabad', 'Jaipur', 'Kolkata', 'Mumbai',\n",
       "       'New Delhi', 'Pune', 'Price'],\n",
       "      dtype='object')"
      ]
     },
     "execution_count": 42,
     "metadata": {},
     "output_type": "execute_result"
    }
   ],
   "source": [
    "df_train.columns"
   ]
  },
  {
   "cell_type": "code",
   "execution_count": 43,
   "metadata": {},
   "outputs": [
    {
     "data": {
      "text/html": [
       "<div>\n",
       "<style scoped>\n",
       "    .dataframe tbody tr th:only-of-type {\n",
       "        vertical-align: middle;\n",
       "    }\n",
       "\n",
       "    .dataframe tbody tr th {\n",
       "        vertical-align: top;\n",
       "    }\n",
       "\n",
       "    .dataframe thead th {\n",
       "        text-align: right;\n",
       "    }\n",
       "</style>\n",
       "<table border=\"1\" class=\"dataframe\">\n",
       "  <thead>\n",
       "    <tr style=\"text-align: right;\">\n",
       "      <th></th>\n",
       "      <th>total_stops</th>\n",
       "      <th>Dep_hour</th>\n",
       "      <th>Dep_min</th>\n",
       "      <th>Arr_hour</th>\n",
       "      <th>Arr_min</th>\n",
       "      <th>Dur_hour</th>\n",
       "      <th>Dur_min</th>\n",
       "      <th>Name_Air India, AirAsia</th>\n",
       "      <th>Name_AirAsia</th>\n",
       "      <th>Name_Go First</th>\n",
       "      <th>Name_Go First, Air India</th>\n",
       "      <th>Name_Go First, AirAsia</th>\n",
       "      <th>Name_IndiGo</th>\n",
       "      <th>Name_Spicejet</th>\n",
       "      <th>Name_Vistara</th>\n",
       "      <th>Bengaluru</th>\n",
       "      <th>Chennai</th>\n",
       "      <th>Chennai</th>\n",
       "      <th>Coimbatore</th>\n",
       "      <th>Kolkata</th>\n",
       "      <th>Kolkata</th>\n",
       "      <th>Madurai</th>\n",
       "      <th>Mumbai</th>\n",
       "      <th>Mumbai</th>\n",
       "      <th>New Delhi</th>\n",
       "      <th>New Delhi</th>\n",
       "      <th>Pune</th>\n",
       "      <th>Pune</th>\n",
       "      <th>Chennai</th>\n",
       "      <th>Chennai</th>\n",
       "      <th>Goa</th>\n",
       "      <th>Hyderabad</th>\n",
       "      <th>Jaipur</th>\n",
       "      <th>Kolkata</th>\n",
       "      <th>Kolkata</th>\n",
       "      <th>Mumbai</th>\n",
       "      <th>Mumbai</th>\n",
       "      <th>New Delhi</th>\n",
       "      <th>New Delhi</th>\n",
       "      <th>Pune</th>\n",
       "      <th>Pune</th>\n",
       "      <th>Price</th>\n",
       "      <th>Price</th>\n",
       "    </tr>\n",
       "  </thead>\n",
       "  <tbody>\n",
       "    <tr>\n",
       "      <th>0</th>\n",
       "      <td>0</td>\n",
       "      <td>7</td>\n",
       "      <td>25</td>\n",
       "      <td>10</td>\n",
       "      <td>15</td>\n",
       "      <td>2</td>\n",
       "      <td>50</td>\n",
       "      <td>0</td>\n",
       "      <td>0</td>\n",
       "      <td>0</td>\n",
       "      <td>0</td>\n",
       "      <td>0</td>\n",
       "      <td>0</td>\n",
       "      <td>0</td>\n",
       "      <td>0</td>\n",
       "      <td>0</td>\n",
       "      <td>0</td>\n",
       "      <td>1</td>\n",
       "      <td>0</td>\n",
       "      <td>0</td>\n",
       "      <td>0</td>\n",
       "      <td>0</td>\n",
       "      <td>0</td>\n",
       "      <td>0</td>\n",
       "      <td>1</td>\n",
       "      <td>0</td>\n",
       "      <td>0</td>\n",
       "      <td>0</td>\n",
       "      <td>0</td>\n",
       "      <td>1</td>\n",
       "      <td>0</td>\n",
       "      <td>0</td>\n",
       "      <td>0</td>\n",
       "      <td>0</td>\n",
       "      <td>0</td>\n",
       "      <td>0</td>\n",
       "      <td>0</td>\n",
       "      <td>1</td>\n",
       "      <td>0</td>\n",
       "      <td>0</td>\n",
       "      <td>0</td>\n",
       "      <td>2341</td>\n",
       "      <td>2341</td>\n",
       "    </tr>\n",
       "    <tr>\n",
       "      <th>1</th>\n",
       "      <td>0</td>\n",
       "      <td>12</td>\n",
       "      <td>45</td>\n",
       "      <td>15</td>\n",
       "      <td>40</td>\n",
       "      <td>2</td>\n",
       "      <td>55</td>\n",
       "      <td>0</td>\n",
       "      <td>0</td>\n",
       "      <td>0</td>\n",
       "      <td>0</td>\n",
       "      <td>0</td>\n",
       "      <td>0</td>\n",
       "      <td>0</td>\n",
       "      <td>0</td>\n",
       "      <td>0</td>\n",
       "      <td>0</td>\n",
       "      <td>1</td>\n",
       "      <td>0</td>\n",
       "      <td>0</td>\n",
       "      <td>0</td>\n",
       "      <td>0</td>\n",
       "      <td>0</td>\n",
       "      <td>0</td>\n",
       "      <td>1</td>\n",
       "      <td>0</td>\n",
       "      <td>0</td>\n",
       "      <td>0</td>\n",
       "      <td>0</td>\n",
       "      <td>1</td>\n",
       "      <td>0</td>\n",
       "      <td>0</td>\n",
       "      <td>0</td>\n",
       "      <td>0</td>\n",
       "      <td>0</td>\n",
       "      <td>0</td>\n",
       "      <td>0</td>\n",
       "      <td>1</td>\n",
       "      <td>0</td>\n",
       "      <td>0</td>\n",
       "      <td>0</td>\n",
       "      <td>2341</td>\n",
       "      <td>2341</td>\n",
       "    </tr>\n",
       "    <tr>\n",
       "      <th>2</th>\n",
       "      <td>1</td>\n",
       "      <td>9</td>\n",
       "      <td>15</td>\n",
       "      <td>15</td>\n",
       "      <td>55</td>\n",
       "      <td>6</td>\n",
       "      <td>40</td>\n",
       "      <td>0</td>\n",
       "      <td>0</td>\n",
       "      <td>0</td>\n",
       "      <td>0</td>\n",
       "      <td>0</td>\n",
       "      <td>0</td>\n",
       "      <td>0</td>\n",
       "      <td>0</td>\n",
       "      <td>0</td>\n",
       "      <td>0</td>\n",
       "      <td>1</td>\n",
       "      <td>0</td>\n",
       "      <td>0</td>\n",
       "      <td>0</td>\n",
       "      <td>0</td>\n",
       "      <td>0</td>\n",
       "      <td>0</td>\n",
       "      <td>1</td>\n",
       "      <td>0</td>\n",
       "      <td>0</td>\n",
       "      <td>0</td>\n",
       "      <td>0</td>\n",
       "      <td>1</td>\n",
       "      <td>0</td>\n",
       "      <td>0</td>\n",
       "      <td>0</td>\n",
       "      <td>0</td>\n",
       "      <td>0</td>\n",
       "      <td>0</td>\n",
       "      <td>0</td>\n",
       "      <td>1</td>\n",
       "      <td>0</td>\n",
       "      <td>0</td>\n",
       "      <td>0</td>\n",
       "      <td>2343</td>\n",
       "      <td>2343</td>\n",
       "    </tr>\n",
       "    <tr>\n",
       "      <th>3</th>\n",
       "      <td>1</td>\n",
       "      <td>8</td>\n",
       "      <td>20</td>\n",
       "      <td>15</td>\n",
       "      <td>55</td>\n",
       "      <td>7</td>\n",
       "      <td>35</td>\n",
       "      <td>0</td>\n",
       "      <td>0</td>\n",
       "      <td>0</td>\n",
       "      <td>0</td>\n",
       "      <td>0</td>\n",
       "      <td>0</td>\n",
       "      <td>1</td>\n",
       "      <td>0</td>\n",
       "      <td>0</td>\n",
       "      <td>0</td>\n",
       "      <td>1</td>\n",
       "      <td>0</td>\n",
       "      <td>0</td>\n",
       "      <td>0</td>\n",
       "      <td>0</td>\n",
       "      <td>0</td>\n",
       "      <td>0</td>\n",
       "      <td>1</td>\n",
       "      <td>0</td>\n",
       "      <td>0</td>\n",
       "      <td>0</td>\n",
       "      <td>0</td>\n",
       "      <td>1</td>\n",
       "      <td>0</td>\n",
       "      <td>0</td>\n",
       "      <td>0</td>\n",
       "      <td>0</td>\n",
       "      <td>0</td>\n",
       "      <td>0</td>\n",
       "      <td>0</td>\n",
       "      <td>1</td>\n",
       "      <td>0</td>\n",
       "      <td>0</td>\n",
       "      <td>0</td>\n",
       "      <td>2343</td>\n",
       "      <td>2343</td>\n",
       "    </tr>\n",
       "    <tr>\n",
       "      <th>4</th>\n",
       "      <td>1</td>\n",
       "      <td>6</td>\n",
       "      <td>10</td>\n",
       "      <td>15</td>\n",
       "      <td>55</td>\n",
       "      <td>9</td>\n",
       "      <td>45</td>\n",
       "      <td>0</td>\n",
       "      <td>0</td>\n",
       "      <td>0</td>\n",
       "      <td>0</td>\n",
       "      <td>0</td>\n",
       "      <td>0</td>\n",
       "      <td>1</td>\n",
       "      <td>0</td>\n",
       "      <td>0</td>\n",
       "      <td>0</td>\n",
       "      <td>1</td>\n",
       "      <td>0</td>\n",
       "      <td>0</td>\n",
       "      <td>0</td>\n",
       "      <td>0</td>\n",
       "      <td>0</td>\n",
       "      <td>0</td>\n",
       "      <td>1</td>\n",
       "      <td>0</td>\n",
       "      <td>0</td>\n",
       "      <td>0</td>\n",
       "      <td>0</td>\n",
       "      <td>1</td>\n",
       "      <td>0</td>\n",
       "      <td>0</td>\n",
       "      <td>0</td>\n",
       "      <td>0</td>\n",
       "      <td>0</td>\n",
       "      <td>0</td>\n",
       "      <td>0</td>\n",
       "      <td>1</td>\n",
       "      <td>0</td>\n",
       "      <td>0</td>\n",
       "      <td>0</td>\n",
       "      <td>2343</td>\n",
       "      <td>2343</td>\n",
       "    </tr>\n",
       "  </tbody>\n",
       "</table>\n",
       "</div>"
      ],
      "text/plain": [
       "   total_stops  Dep_hour  Dep_min  Arr_hour  Arr_min  Dur_hour  Dur_min  \\\n",
       "0            0         7       25        10       15         2       50   \n",
       "1            0        12       45        15       40         2       55   \n",
       "2            1         9       15        15       55         6       40   \n",
       "3            1         8       20        15       55         7       35   \n",
       "4            1         6       10        15       55         9       45   \n",
       "\n",
       "   Name_Air India, AirAsia  Name_AirAsia  Name_Go First  \\\n",
       "0                        0             0              0   \n",
       "1                        0             0              0   \n",
       "2                        0             0              0   \n",
       "3                        0             0              0   \n",
       "4                        0             0              0   \n",
       "\n",
       "   Name_Go First, Air India  Name_Go First, AirAsia  Name_IndiGo  \\\n",
       "0                         0                       0            0   \n",
       "1                         0                       0            0   \n",
       "2                         0                       0            0   \n",
       "3                         0                       0            0   \n",
       "4                         0                       0            0   \n",
       "\n",
       "   Name_Spicejet  Name_Vistara  Bengaluru  Chennai  Chennai  Coimbatore  \\\n",
       "0              0             0          0        0        1           0   \n",
       "1              0             0          0        0        1           0   \n",
       "2              0             0          0        0        1           0   \n",
       "3              1             0          0        0        1           0   \n",
       "4              1             0          0        0        1           0   \n",
       "\n",
       "   Kolkata  Kolkata  Madurai  Mumbai  Mumbai  New Delhi  New Delhi  Pune  \\\n",
       "0        0        0        0       0       0          1          0     0   \n",
       "1        0        0        0       0       0          1          0     0   \n",
       "2        0        0        0       0       0          1          0     0   \n",
       "3        0        0        0       0       0          1          0     0   \n",
       "4        0        0        0       0       0          1          0     0   \n",
       "\n",
       "   Pune  Chennai  Chennai  Goa  Hyderabad  Jaipur  Kolkata  Kolkata  Mumbai  \\\n",
       "0     0        0        1    0          0       0        0        0       0   \n",
       "1     0        0        1    0          0       0        0        0       0   \n",
       "2     0        0        1    0          0       0        0        0       0   \n",
       "3     0        0        1    0          0       0        0        0       0   \n",
       "4     0        0        1    0          0       0        0        0       0   \n",
       "\n",
       "   Mumbai  New Delhi  New Delhi  Pune  Pune  Price  Price  \n",
       "0       0          1          0     0     0   2341   2341  \n",
       "1       0          1          0     0     0   2341   2341  \n",
       "2       0          1          0     0     0   2343   2343  \n",
       "3       0          1          0     0     0   2343   2343  \n",
       "4       0          1          0     0     0   2343   2343  "
      ]
     },
     "execution_count": 43,
     "metadata": {},
     "output_type": "execute_result"
    }
   ],
   "source": [
    "X = df_train.loc[:, [ 'total_stops', 'Dep_hour', 'Dep_min', 'Arr_hour', 'Arr_min',\n",
    "       'Dur_hour', 'Dur_min', 'Name_Air India, AirAsia', 'Name_AirAsia',\n",
    "       'Name_Go First', 'Name_Go First, Air India', 'Name_Go First, AirAsia',\n",
    "       'Name_IndiGo', 'Name_Spicejet', 'Name_Vistara', 'Bengaluru', 'Chennai',\n",
    "       'Coimbatore', 'Kolkata', 'Madurai', 'Mumbai', 'New Delhi', 'Pune',\n",
    "       'Chennai', 'Goa', 'Hyderabad', 'Jaipur', 'Kolkata', 'Mumbai',\n",
    "       'New Delhi', 'Pune', 'Price']]\n",
    "X.head()"
   ]
  },
  {
   "cell_type": "code",
   "execution_count": 44,
   "metadata": {},
   "outputs": [
    {
     "data": {
      "text/plain": [
       "0    2341\n",
       "1    2341\n",
       "2    2343\n",
       "3    2343\n",
       "4    2343\n",
       "Name: Price, dtype: int64"
      ]
     },
     "execution_count": 44,
     "metadata": {},
     "output_type": "execute_result"
    }
   ],
   "source": [
    "y = df_train.iloc[:, 0]\n",
    "y.head()"
   ]
  },
  {
   "cell_type": "code",
   "execution_count": 45,
   "metadata": {},
   "outputs": [],
   "source": [
    "from sklearn.model_selection import train_test_split\n",
    "X_train, X_test, y_train, y_test = train_test_split(X, y, test_size = 0.2, random_state = 42)"
   ]
  },
  {
   "cell_type": "markdown",
   "metadata": {},
   "source": [
    "### Linear Regression Model"
   ]
  },
  {
   "cell_type": "code",
   "execution_count": 46,
   "metadata": {},
   "outputs": [],
   "source": [
    "# Importing RFE and LinearRegression\n",
    "from sklearn.feature_selection import RFE\n",
    "from sklearn.linear_model import LinearRegression"
   ]
  },
  {
   "cell_type": "code",
   "execution_count": 47,
   "metadata": {},
   "outputs": [
    {
     "name": "stdout",
     "output_type": "stream",
     "text": [
      "The accuracy of the Logistic Regression is 0.9668335419274092\n"
     ]
    }
   ],
   "source": [
    "from sklearn import metrics \n",
    "from sklearn.linear_model import LogisticRegression\n",
    "model_log = LogisticRegression(solver='liblinear')\n",
    "model_log.fit(X_train, y_train)\n",
    "prediction_log = model_log.predict(X_test)\n",
    "print('The accuracy of the Logistic Regression is',metrics.accuracy_score(prediction_log, y_test))"
   ]
  },
  {
   "cell_type": "code",
   "execution_count": 54,
   "metadata": {},
   "outputs": [
    {
     "data": {
      "text/plain": [
       "LinearRegression()"
      ]
     },
     "execution_count": 54,
     "metadata": {},
     "output_type": "execute_result"
    }
   ],
   "source": [
    "lm = LinearRegression()\n",
    "lm.fit(X_train, y_train)\n"
   ]
  },
  {
   "cell_type": "code",
   "execution_count": 55,
   "metadata": {},
   "outputs": [
    {
     "name": "stdout",
     "output_type": "stream",
     "text": [
      "Coefficients:  [ 1.38042031e-13 -2.87547763e-14 -1.31733274e-15  5.38848480e-15\n",
      "  1.15510899e-15 -1.41076387e-13 -6.64138883e-15  8.72941152e-13\n",
      "  5.43390546e-13  1.97046867e-13  1.30657800e-12  2.75426519e-12\n",
      "  1.59944059e-13  9.58558345e-14  1.14463895e-13  2.23245236e-12\n",
      "  1.17671517e-12 -9.71661038e-14  2.11293631e-12  3.06491096e-14\n",
      " -1.10734272e-12  2.72064946e-13  8.25284296e-13 -7.72162418e-14\n",
      "  5.24916109e-13 -4.47453777e-13  8.02191328e-13 -2.43354802e-13\n",
      "  1.17671775e-12 -9.71664155e-14 -1.16716231e-12 -4.86868168e-14\n",
      " -5.24329512e-13  3.06489809e-14 -1.10734276e-12  8.25284336e-13\n",
      " -7.72163366e-14  5.24916014e-13 -4.47453879e-13  8.02191131e-13\n",
      " -2.43355290e-13  5.00000000e-01  5.00000000e-01]\n",
      "Variance score: 1.0\n"
     ]
    },
    {
     "data": {
      "image/png": "[encoded data removed]",
      "text/plain": [
       "<Figure size 432x288 with 1 Axes>"
      ]
     },
     "metadata": {},
     "output_type": "display_data"
    }
   ],
   "source": [
    "# regression coefficients\n",
    "print('Coefficients: ', lm.coef_)\n",
    " \n",
    "# variance score: 1 means perfect prediction\n",
    "print('Variance score: {}'.format(lm.score(X_test, y_test)))\n",
    " \n",
    "# plot for residual error\n",
    " \n",
    "## setting plot style\n",
    "plt.style.use('fivethirtyeight')\n",
    " \n",
    "## plotting residual errors in training data\n",
    "plt.scatter(lm.predict(X_train), lm.predict(X_train) - y_train,\n",
    "            color = \"green\", s = 10, label = 'Train data')\n",
    " \n",
    "## plotting residual errors in test data\n",
    "plt.scatter(lm.predict(X_test), lm.predict(X_test) - y_test,\n",
    "            color = \"blue\", s = 10, label = 'Test data')\n",
    " \n",
    "## plotting line for zero residual error\n",
    "plt.hlines(y = 0, xmin = 0, xmax = 50, linewidth = 2)\n",
    " \n",
    "## plotting legend\n",
    "plt.legend(loc = 'upper right')\n",
    " \n",
    "## plot title\n",
    "plt.title(\"Residual errors\")\n",
    " \n",
    "## method call for showing the plot\n",
    "plt.show()"
   ]
  },
  {
   "cell_type": "code",
   "execution_count": 56,
   "metadata": {},
   "outputs": [
    {
     "data": {
      "text/plain": [
       "LinearRegression()"
      ]
     },
     "execution_count": 56,
     "metadata": {},
     "output_type": "execute_result"
    }
   ],
   "source": [
    "regressor = LinearRegression()  \n",
    "regressor.fit(X_train, y_train)"
   ]
  },
  {
   "cell_type": "code",
   "execution_count": 57,
   "metadata": {},
   "outputs": [
    {
     "name": "stdout",
     "output_type": "stream",
     "text": [
      "-5.002220859751105e-12\n",
      "[ 1.38042031e-13 -2.87547763e-14 -1.31733274e-15  5.38848480e-15\n",
      "  1.15510899e-15 -1.41076387e-13 -6.64138883e-15  8.72941152e-13\n",
      "  5.43390546e-13  1.97046867e-13  1.30657800e-12  2.75426519e-12\n",
      "  1.59944059e-13  9.58558345e-14  1.14463895e-13  2.23245236e-12\n",
      "  1.17671517e-12 -9.71661038e-14  2.11293631e-12  3.06491096e-14\n",
      " -1.10734272e-12  2.72064946e-13  8.25284296e-13 -7.72162418e-14\n",
      "  5.24916109e-13 -4.47453777e-13  8.02191328e-13 -2.43354802e-13\n",
      "  1.17671775e-12 -9.71664155e-14 -1.16716231e-12 -4.86868168e-14\n",
      " -5.24329512e-13  3.06489809e-14 -1.10734276e-12  8.25284336e-13\n",
      " -7.72163366e-14  5.24916014e-13 -4.47453879e-13  8.02191131e-13\n",
      " -2.43355290e-13  5.00000000e-01  5.00000000e-01]\n"
     ]
    }
   ],
   "source": [
    "#To retrieve the intercept:\n",
    "print(regressor.intercept_)\n",
    "\n",
    "#For retrieving the slope:\n",
    "print(regressor.coef_)"
   ]
  },
  {
   "cell_type": "code",
   "execution_count": 58,
   "metadata": {},
   "outputs": [],
   "source": [
    "y_pred = regressor.predict(X_test)"
   ]
  },
  {
   "cell_type": "code",
   "execution_count": 60,
   "metadata": {},
   "outputs": [
    {
     "name": "stdout",
     "output_type": "stream",
     "text": [
      "MAE: 8.92704905964229e-13\n",
      "MSE: 1.3635798051425615e-24\n",
      "RMSE: 1.1677241990909331e-12\n"
     ]
    }
   ],
   "source": [
    "print('MAE:', metrics.mean_absolute_error(y_test, y_pred))\n",
    "print('MSE:', metrics.mean_squared_error(y_test, y_pred))\n",
    "print('RMSE:', np.sqrt(metrics.mean_squared_error(y_test, y_pred)))"
   ]
  },
  {
   "cell_type": "code",
   "execution_count": 61,
   "metadata": {},
   "outputs": [
    {
     "data": {
      "image/png": "[encoded data removed]",
      "text/plain": [
       "<Figure size 576x576 with 1 Axes>"
      ]
     },
     "metadata": {},
     "output_type": "display_data"
    }
   ],
   "source": [
    "plt.figure(figsize = (8,8))\n",
    "sns.distplot(y_test-y_pred)\n",
    "plt.show()"
   ]
  },
  {
   "cell_type": "code",
   "execution_count": 100,
   "metadata": {},
   "outputs": [
    {
     "data": {
      "text/html": [
       "<div>\n",
       "<style scoped>\n",
       "    .dataframe tbody tr th:only-of-type {\n",
       "        vertical-align: middle;\n",
       "    }\n",
       "\n",
       "    .dataframe tbody tr th {\n",
       "        vertical-align: top;\n",
       "    }\n",
       "\n",
       "    .dataframe thead th {\n",
       "        text-align: right;\n",
       "    }\n",
       "</style>\n",
       "<table border=\"1\" class=\"dataframe\">\n",
       "  <thead>\n",
       "    <tr style=\"text-align: right;\">\n",
       "      <th></th>\n",
       "      <th>Actual</th>\n",
       "      <th>Predicted</th>\n",
       "    </tr>\n",
       "  </thead>\n",
       "  <tbody>\n",
       "    <tr>\n",
       "      <th>4953</th>\n",
       "      <td>2520</td>\n",
       "      <td>2520.0</td>\n",
       "    </tr>\n",
       "    <tr>\n",
       "      <th>5464</th>\n",
       "      <td>1715</td>\n",
       "      <td>1715.0</td>\n",
       "    </tr>\n",
       "    <tr>\n",
       "      <th>7487</th>\n",
       "      <td>2126</td>\n",
       "      <td>2126.0</td>\n",
       "    </tr>\n",
       "    <tr>\n",
       "      <th>7608</th>\n",
       "      <td>2125</td>\n",
       "      <td>2125.0</td>\n",
       "    </tr>\n",
       "    <tr>\n",
       "      <th>2653</th>\n",
       "      <td>1830</td>\n",
       "      <td>1830.0</td>\n",
       "    </tr>\n",
       "    <tr>\n",
       "      <th>4623</th>\n",
       "      <td>3702</td>\n",
       "      <td>3702.0</td>\n",
       "    </tr>\n",
       "    <tr>\n",
       "      <th>1087</th>\n",
       "      <td>3988</td>\n",
       "      <td>3988.0</td>\n",
       "    </tr>\n",
       "    <tr>\n",
       "      <th>3837</th>\n",
       "      <td>2518</td>\n",
       "      <td>2518.0</td>\n",
       "    </tr>\n",
       "    <tr>\n",
       "      <th>4112</th>\n",
       "      <td>2463</td>\n",
       "      <td>2463.0</td>\n",
       "    </tr>\n",
       "    <tr>\n",
       "      <th>1783</th>\n",
       "      <td>4026</td>\n",
       "      <td>4026.0</td>\n",
       "    </tr>\n",
       "  </tbody>\n",
       "</table>\n",
       "</div>"
      ],
      "text/plain": [
       "      Actual  Predicted\n",
       "4953    2520     2520.0\n",
       "5464    1715     1715.0\n",
       "7487    2126     2126.0\n",
       "7608    2125     2125.0\n",
       "2653    1830     1830.0\n",
       "4623    3702     3702.0\n",
       "1087    3988     3988.0\n",
       "3837    2518     2518.0\n",
       "4112    2463     2463.0\n",
       "1783    4026     4026.0"
      ]
     },
     "execution_count": 100,
     "metadata": {},
     "output_type": "execute_result"
    }
   ],
   "source": [
    "df = pd.DataFrame({'Actual': y_test, 'Predicted': y_pred})\n",
    "df.head(10)"
   ]
  },
  {
   "cell_type": "markdown",
   "metadata": {},
   "source": [
    "### Random Forest Model"
   ]
  },
  {
   "cell_type": "code",
   "execution_count": 63,
   "metadata": {},
   "outputs": [],
   "source": [
    "from sklearn.ensemble import RandomForestRegressor\n",
    "reg_rf = RandomForestRegressor()\n",
    "reg_rf.fit(X_train, y_train)\n",
    "y_pred = reg_rf.predict(X_test)"
   ]
  },
  {
   "cell_type": "code",
   "execution_count": 64,
   "metadata": {},
   "outputs": [],
   "source": [
    "y_pred = reg_rf.predict(X_test)"
   ]
  },
  {
   "cell_type": "code",
   "execution_count": 65,
   "metadata": {},
   "outputs": [
    {
     "data": {
      "text/plain": [
       "0.9999998585639498"
      ]
     },
     "execution_count": 65,
     "metadata": {},
     "output_type": "execute_result"
    }
   ],
   "source": [
    "reg_rf.score(X_train, y_train)"
   ]
  },
  {
   "cell_type": "code",
   "execution_count": 66,
   "metadata": {},
   "outputs": [
    {
     "data": {
      "text/plain": [
       "0.9999986576417182"
      ]
     },
     "execution_count": 66,
     "metadata": {},
     "output_type": "execute_result"
    }
   ],
   "source": [
    "reg_rf.score(X_test, y_test)"
   ]
  },
  {
   "cell_type": "code",
   "execution_count": 67,
   "metadata": {},
   "outputs": [
    {
     "data": {
      "image/png": "[encoded data removed]",
      "text/plain": [
       "<Figure size 432x288 with 1 Axes>"
      ]
     },
     "metadata": {},
     "output_type": "display_data"
    }
   ],
   "source": [
    "sns.distplot(y_test-y_pred)\n",
    "plt.show()"
   ]
  },
  {
   "cell_type": "code",
   "execution_count": 68,
   "metadata": {},
   "outputs": [
    {
     "data": {
      "image/png": "[encoded data removed]",
      "text/plain": [
       "<Figure size 432x288 with 1 Axes>"
      ]
     },
     "metadata": {},
     "output_type": "display_data"
    }
   ],
   "source": [
    "plt.scatter(y_test, y_pred, alpha = 0.5)\n",
    "plt.xlabel(\"y_test\")\n",
    "plt.ylabel(\"y_pred\")\n",
    "plt.show()"
   ]
  },
  {
   "cell_type": "code",
   "execution_count": 69,
   "metadata": {},
   "outputs": [
    {
     "name": "stdout",
     "output_type": "stream",
     "text": [
      "MAE: 0.08637672090112625\n",
      "MSE: 0.9066258448060094\n",
      "RMSE: 0.9521690211333329\n"
     ]
    }
   ],
   "source": [
    "from sklearn import metrics\n",
    "print('MAE:', metrics.mean_absolute_error(y_test, y_pred))\n",
    "print('MSE:', metrics.mean_squared_error(y_test, y_pred))\n",
    "print('RMSE:', np.sqrt(metrics.mean_squared_error(y_test, y_pred)))"
   ]
  },
  {
   "cell_type": "code",
   "execution_count": 70,
   "metadata": {},
   "outputs": [
    {
     "data": {
      "text/plain": [
       "0.4949220880681819"
      ]
     },
     "execution_count": 70,
     "metadata": {},
     "output_type": "execute_result"
    }
   ],
   "source": [
    "\n",
    "# RMSE/(max(DV)-min(DV))\n",
    "\n",
    "2090.5509/(max(y)-min(y))"
   ]
  },
  {
   "cell_type": "code",
   "execution_count": 71,
   "metadata": {},
   "outputs": [
    {
     "data": {
      "text/plain": [
       "0.9999986576417182"
      ]
     },
     "execution_count": 71,
     "metadata": {},
     "output_type": "execute_result"
    }
   ],
   "source": [
    "metrics.r2_score(y_test, y_pred)"
   ]
  },
  {
   "cell_type": "markdown",
   "metadata": {},
   "source": [
    "**Important features using ExtraTreesRegressor**"
   ]
  },
  {
   "cell_type": "code",
   "execution_count": 72,
   "metadata": {},
   "outputs": [
    {
     "data": {
      "text/plain": [
       "ExtraTreesRegressor()"
      ]
     },
     "execution_count": 72,
     "metadata": {},
     "output_type": "execute_result"
    }
   ],
   "source": [
    "from sklearn.ensemble import ExtraTreesRegressor\n",
    "selection = ExtraTreesRegressor()\n",
    "selection.fit(X, y)"
   ]
  },
  {
   "cell_type": "code",
   "execution_count": 73,
   "metadata": {},
   "outputs": [
    {
     "name": "stdout",
     "output_type": "stream",
     "text": [
      "[4.03481392e-03 7.62282748e-05 4.53906951e-05 3.80388462e-05\n",
      " 1.88130448e-05 1.45325332e-04 1.19554902e-04 0.00000000e+00\n",
      " 0.00000000e+00 0.00000000e+00 0.00000000e+00 0.00000000e+00\n",
      " 4.20521129e-08 0.00000000e+00 0.00000000e+00 1.45938092e-04\n",
      " 6.90360855e-05 1.05124471e-05 1.98289557e-05 2.62164173e-05\n",
      " 9.34266234e-03 2.46047491e-05 3.21032769e-04 1.73802532e-05\n",
      " 1.62079922e-04 2.74593856e-04 3.09291713e-03 7.26233694e-04\n",
      " 3.58792492e-05 2.79579146e-05 2.81265230e-04 7.78062750e-05\n",
      " 7.87755651e-06 1.05552551e-03 6.67978734e-03 2.88610309e-04\n",
      " 1.87386848e-05 2.23825024e-04 1.03563868e-03 1.89315810e-03\n",
      " 3.05827964e-04 5.37286308e-01 4.32070550e-01]\n"
     ]
    }
   ],
   "source": [
    "print(selection.feature_importances_)"
   ]
  },
  {
   "cell_type": "code",
   "execution_count": 74,
   "metadata": {},
   "outputs": [
    {
     "data": {
      "image/png": "[encoded data removed]",
      "text/plain": [
       "<Figure size 864x576 with 1 Axes>"
      ]
     },
     "metadata": {},
     "output_type": "display_data"
    }
   ],
   "source": [
    "#plot graph of feature importances for better visualization\n",
    "\n",
    "plt.figure(figsize = (12,8))\n",
    "feat_importances = pd.Series(selection.feature_importances_, index=X.columns)\n",
    "feat_importances.nlargest(20).plot(kind='barh')\n",
    "plt.show()"
   ]
  },
  {
   "cell_type": "markdown",
   "metadata": {},
   "source": [
    "### Hyper Parameter Tuning"
   ]
  },
  {
   "cell_type": "code",
   "execution_count": 75,
   "metadata": {},
   "outputs": [],
   "source": [
    "from sklearn.model_selection import RandomizedSearchCV"
   ]
  },
  {
   "cell_type": "code",
   "execution_count": 76,
   "metadata": {},
   "outputs": [],
   "source": [
    "#Randomized Search CV\n",
    "\n",
    "# Number of trees in random forest\n",
    "n_estimators = [int(x) for x in np.linspace(start = 100, stop = 1200, num = 12)]\n",
    "# Number of features to consider at every split\n",
    "max_features = ['auto', 'sqrt']\n",
    "# Maximum number of levels in tree\n",
    "max_depth = [int(x) for x in np.linspace(5, 30, num = 6)]\n",
    "# Minimum number of samples required to split a node\n",
    "min_samples_split = [2, 5, 10, 15, 100]\n",
    "# Minimum number of samples required at each leaf node\n",
    "min_samples_leaf = [1, 2, 5, 10]"
   ]
  },
  {
   "cell_type": "code",
   "execution_count": 77,
   "metadata": {},
   "outputs": [],
   "source": [
    "# Create the random grid\n",
    "\n",
    "random_grid = {'n_estimators': n_estimators,\n",
    "               'max_features': max_features,\n",
    "               'max_depth': max_depth,\n",
    "               'min_samples_split': min_samples_split,\n",
    "               'min_samples_leaf': min_samples_leaf}"
   ]
  },
  {
   "cell_type": "code",
   "execution_count": 78,
   "metadata": {},
   "outputs": [],
   "source": [
    "# Random search of parameters, using 5 fold cross validation, \n",
    "# search across 100 different combinations\n",
    "rf_random = RandomizedSearchCV(estimator = reg_rf, param_distributions = random_grid,scoring='neg_mean_squared_error', n_iter = 10, cv = 5, verbose=2, random_state=42, n_jobs = 1)"
   ]
  },
  {
   "cell_type": "code",
   "execution_count": 79,
   "metadata": {},
   "outputs": [
    {
     "name": "stdout",
     "output_type": "stream",
     "text": [
      "Fitting 5 folds for each of 10 candidates, totalling 50 fits\n",
      "[CV] n_estimators=900, min_samples_split=5, min_samples_leaf=5, max_features=sqrt, max_depth=10 \n"
     ]
    },
    {
     "name": "stderr",
     "output_type": "stream",
     "text": [
      "[Parallel(n_jobs=1)]: Using backend SequentialBackend with 1 concurrent workers.\n"
     ]
    },
    {
     "name": "stdout",
     "output_type": "stream",
     "text": [
      "[CV]  n_estimators=900, min_samples_split=5, min_samples_leaf=5, max_features=sqrt, max_depth=10, total=   8.8s\n",
      "[CV] n_estimators=900, min_samples_split=5, min_samples_leaf=5, max_features=sqrt, max_depth=10 \n"
     ]
    },
    {
     "name": "stderr",
     "output_type": "stream",
     "text": [
      "[Parallel(n_jobs=1)]: Done   1 out of   1 | elapsed:    8.7s remaining:    0.0s\n"
     ]
    },
    {
     "name": "stdout",
     "output_type": "stream",
     "text": [
      "[CV]  n_estimators=900, min_samples_split=5, min_samples_leaf=5, max_features=sqrt, max_depth=10, total=   9.5s\n",
      "[CV] n_estimators=900, min_samples_split=5, min_samples_leaf=5, max_features=sqrt, max_depth=10 \n",
      "[CV]  n_estimators=900, min_samples_split=5, min_samples_leaf=5, max_features=sqrt, max_depth=10, total=   8.6s\n",
      "[CV] n_estimators=900, min_samples_split=5, min_samples_leaf=5, max_features=sqrt, max_depth=10 \n",
      "[CV]  n_estimators=900, min_samples_split=5, min_samples_leaf=5, max_features=sqrt, max_depth=10, total=   7.7s\n",
      "[CV] n_estimators=900, min_samples_split=5, min_samples_leaf=5, max_features=sqrt, max_depth=10 \n",
      "[CV]  n_estimators=900, min_samples_split=5, min_samples_leaf=5, max_features=sqrt, max_depth=10, total=   7.5s\n",
      "[CV] n_estimators=1100, min_samples_split=10, min_samples_leaf=2, max_features=sqrt, max_depth=15 \n",
      "[CV]  n_estimators=1100, min_samples_split=10, min_samples_leaf=2, max_features=sqrt, max_depth=15, total=  10.3s\n",
      "[CV] n_estimators=1100, min_samples_split=10, min_samples_leaf=2, max_features=sqrt, max_depth=15 \n",
      "[CV]  n_estimators=1100, min_samples_split=10, min_samples_leaf=2, max_features=sqrt, max_depth=15, total=  10.2s\n",
      "[CV] n_estimators=1100, min_samples_split=10, min_samples_leaf=2, max_features=sqrt, max_depth=15 \n",
      "[CV]  n_estimators=1100, min_samples_split=10, min_samples_leaf=2, max_features=sqrt, max_depth=15, total=  10.9s\n",
      "[CV] n_estimators=1100, min_samples_split=10, min_samples_leaf=2, max_features=sqrt, max_depth=15 \n",
      "[CV]  n_estimators=1100, min_samples_split=10, min_samples_leaf=2, max_features=sqrt, max_depth=15, total=   9.8s\n",
      "[CV] n_estimators=1100, min_samples_split=10, min_samples_leaf=2, max_features=sqrt, max_depth=15 \n",
      "[CV]  n_estimators=1100, min_samples_split=10, min_samples_leaf=2, max_features=sqrt, max_depth=15, total=   8.9s\n",
      "[CV] n_estimators=300, min_samples_split=100, min_samples_leaf=5, max_features=auto, max_depth=15 \n",
      "[CV]  n_estimators=300, min_samples_split=100, min_samples_leaf=5, max_features=auto, max_depth=15, total=   5.9s\n",
      "[CV] n_estimators=300, min_samples_split=100, min_samples_leaf=5, max_features=auto, max_depth=15 \n",
      "[CV]  n_estimators=300, min_samples_split=100, min_samples_leaf=5, max_features=auto, max_depth=15, total=   5.9s\n",
      "[CV] n_estimators=300, min_samples_split=100, min_samples_leaf=5, max_features=auto, max_depth=15 \n",
      "[CV]  n_estimators=300, min_samples_split=100, min_samples_leaf=5, max_features=auto, max_depth=15, total=   6.0s\n",
      "[CV] n_estimators=300, min_samples_split=100, min_samples_leaf=5, max_features=auto, max_depth=15 \n",
      "[CV]  n_estimators=300, min_samples_split=100, min_samples_leaf=5, max_features=auto, max_depth=15, total=   6.0s\n",
      "[CV] n_estimators=300, min_samples_split=100, min_samples_leaf=5, max_features=auto, max_depth=15 \n",
      "[CV]  n_estimators=300, min_samples_split=100, min_samples_leaf=5, max_features=auto, max_depth=15, total=   5.9s\n",
      "[CV] n_estimators=400, min_samples_split=5, min_samples_leaf=5, max_features=auto, max_depth=15 \n",
      "[CV]  n_estimators=400, min_samples_split=5, min_samples_leaf=5, max_features=auto, max_depth=15, total=   8.7s\n",
      "[CV] n_estimators=400, min_samples_split=5, min_samples_leaf=5, max_features=auto, max_depth=15 \n",
      "[CV]  n_estimators=400, min_samples_split=5, min_samples_leaf=5, max_features=auto, max_depth=15, total=   9.1s\n",
      "[CV] n_estimators=400, min_samples_split=5, min_samples_leaf=5, max_features=auto, max_depth=15 \n",
      "[CV]  n_estimators=400, min_samples_split=5, min_samples_leaf=5, max_features=auto, max_depth=15, total=   8.9s\n",
      "[CV] n_estimators=400, min_samples_split=5, min_samples_leaf=5, max_features=auto, max_depth=15 \n",
      "[CV]  n_estimators=400, min_samples_split=5, min_samples_leaf=5, max_features=auto, max_depth=15, total=   8.5s\n",
      "[CV] n_estimators=400, min_samples_split=5, min_samples_leaf=5, max_features=auto, max_depth=15 \n",
      "[CV]  n_estimators=400, min_samples_split=5, min_samples_leaf=5, max_features=auto, max_depth=15, total=   8.6s\n",
      "[CV] n_estimators=700, min_samples_split=5, min_samples_leaf=10, max_features=auto, max_depth=20 \n",
      "[CV]  n_estimators=700, min_samples_split=5, min_samples_leaf=10, max_features=auto, max_depth=20, total=  15.2s\n",
      "[CV] n_estimators=700, min_samples_split=5, min_samples_leaf=10, max_features=auto, max_depth=20 \n",
      "[CV]  n_estimators=700, min_samples_split=5, min_samples_leaf=10, max_features=auto, max_depth=20, total=  16.1s\n",
      "[CV] n_estimators=700, min_samples_split=5, min_samples_leaf=10, max_features=auto, max_depth=20 \n",
      "[CV]  n_estimators=700, min_samples_split=5, min_samples_leaf=10, max_features=auto, max_depth=20, total=  15.3s\n",
      "[CV] n_estimators=700, min_samples_split=5, min_samples_leaf=10, max_features=auto, max_depth=20 \n",
      "[CV]  n_estimators=700, min_samples_split=5, min_samples_leaf=10, max_features=auto, max_depth=20, total=  14.9s\n",
      "[CV] n_estimators=700, min_samples_split=5, min_samples_leaf=10, max_features=auto, max_depth=20 \n",
      "[CV]  n_estimators=700, min_samples_split=5, min_samples_leaf=10, max_features=auto, max_depth=20, total=  15.0s\n",
      "[CV] n_estimators=1000, min_samples_split=2, min_samples_leaf=1, max_features=sqrt, max_depth=25 \n",
      "[CV]  n_estimators=1000, min_samples_split=2, min_samples_leaf=1, max_features=sqrt, max_depth=25, total=   8.2s\n",
      "[CV] n_estimators=1000, min_samples_split=2, min_samples_leaf=1, max_features=sqrt, max_depth=25 \n",
      "[CV]  n_estimators=1000, min_samples_split=2, min_samples_leaf=1, max_features=sqrt, max_depth=25, total=   8.5s\n",
      "[CV] n_estimators=1000, min_samples_split=2, min_samples_leaf=1, max_features=sqrt, max_depth=25 \n",
      "[CV]  n_estimators=1000, min_samples_split=2, min_samples_leaf=1, max_features=sqrt, max_depth=25, total=   8.2s\n",
      "[CV] n_estimators=1000, min_samples_split=2, min_samples_leaf=1, max_features=sqrt, max_depth=25 \n",
      "[CV]  n_estimators=1000, min_samples_split=2, min_samples_leaf=1, max_features=sqrt, max_depth=25, total=   8.2s\n",
      "[CV] n_estimators=1000, min_samples_split=2, min_samples_leaf=1, max_features=sqrt, max_depth=25 \n",
      "[CV]  n_estimators=1000, min_samples_split=2, min_samples_leaf=1, max_features=sqrt, max_depth=25, total=   8.2s\n",
      "[CV] n_estimators=1100, min_samples_split=15, min_samples_leaf=10, max_features=sqrt, max_depth=5 \n",
      "[CV]  n_estimators=1100, min_samples_split=15, min_samples_leaf=10, max_features=sqrt, max_depth=5, total=   6.3s\n",
      "[CV] n_estimators=1100, min_samples_split=15, min_samples_leaf=10, max_features=sqrt, max_depth=5 \n",
      "[CV]  n_estimators=1100, min_samples_split=15, min_samples_leaf=10, max_features=sqrt, max_depth=5, total=   6.4s\n",
      "[CV] n_estimators=1100, min_samples_split=15, min_samples_leaf=10, max_features=sqrt, max_depth=5 \n",
      "[CV]  n_estimators=1100, min_samples_split=15, min_samples_leaf=10, max_features=sqrt, max_depth=5, total=   6.3s\n",
      "[CV] n_estimators=1100, min_samples_split=15, min_samples_leaf=10, max_features=sqrt, max_depth=5 \n",
      "[CV]  n_estimators=1100, min_samples_split=15, min_samples_leaf=10, max_features=sqrt, max_depth=5, total=   6.4s\n",
      "[CV] n_estimators=1100, min_samples_split=15, min_samples_leaf=10, max_features=sqrt, max_depth=5 \n",
      "[CV]  n_estimators=1100, min_samples_split=15, min_samples_leaf=10, max_features=sqrt, max_depth=5, total=   6.4s\n",
      "[CV] n_estimators=300, min_samples_split=15, min_samples_leaf=1, max_features=sqrt, max_depth=15 \n",
      "[CV]  n_estimators=300, min_samples_split=15, min_samples_leaf=1, max_features=sqrt, max_depth=15, total=   2.4s\n",
      "[CV] n_estimators=300, min_samples_split=15, min_samples_leaf=1, max_features=sqrt, max_depth=15 \n",
      "[CV]  n_estimators=300, min_samples_split=15, min_samples_leaf=1, max_features=sqrt, max_depth=15, total=   2.5s\n",
      "[CV] n_estimators=300, min_samples_split=15, min_samples_leaf=1, max_features=sqrt, max_depth=15 \n",
      "[CV]  n_estimators=300, min_samples_split=15, min_samples_leaf=1, max_features=sqrt, max_depth=15, total=   2.5s\n",
      "[CV] n_estimators=300, min_samples_split=15, min_samples_leaf=1, max_features=sqrt, max_depth=15 \n",
      "[CV]  n_estimators=300, min_samples_split=15, min_samples_leaf=1, max_features=sqrt, max_depth=15, total=   2.5s\n",
      "[CV] n_estimators=300, min_samples_split=15, min_samples_leaf=1, max_features=sqrt, max_depth=15 \n",
      "[CV]  n_estimators=300, min_samples_split=15, min_samples_leaf=1, max_features=sqrt, max_depth=15, total=   2.5s\n",
      "[CV] n_estimators=700, min_samples_split=10, min_samples_leaf=2, max_features=sqrt, max_depth=5 \n",
      "[CV]  n_estimators=700, min_samples_split=10, min_samples_leaf=2, max_features=sqrt, max_depth=5, total=   4.1s\n",
      "[CV] n_estimators=700, min_samples_split=10, min_samples_leaf=2, max_features=sqrt, max_depth=5 \n",
      "[CV]  n_estimators=700, min_samples_split=10, min_samples_leaf=2, max_features=sqrt, max_depth=5, total=   4.1s\n",
      "[CV] n_estimators=700, min_samples_split=10, min_samples_leaf=2, max_features=sqrt, max_depth=5 \n",
      "[CV]  n_estimators=700, min_samples_split=10, min_samples_leaf=2, max_features=sqrt, max_depth=5, total=   4.1s\n",
      "[CV] n_estimators=700, min_samples_split=10, min_samples_leaf=2, max_features=sqrt, max_depth=5 \n",
      "[CV]  n_estimators=700, min_samples_split=10, min_samples_leaf=2, max_features=sqrt, max_depth=5, total=   4.0s\n",
      "[CV] n_estimators=700, min_samples_split=10, min_samples_leaf=2, max_features=sqrt, max_depth=5 \n",
      "[CV]  n_estimators=700, min_samples_split=10, min_samples_leaf=2, max_features=sqrt, max_depth=5, total=   4.0s\n",
      "[CV] n_estimators=700, min_samples_split=15, min_samples_leaf=1, max_features=auto, max_depth=20 \n",
      "[CV]  n_estimators=700, min_samples_split=15, min_samples_leaf=1, max_features=auto, max_depth=20, total=  15.1s\n",
      "[CV] n_estimators=700, min_samples_split=15, min_samples_leaf=1, max_features=auto, max_depth=20 \n",
      "[CV]  n_estimators=700, min_samples_split=15, min_samples_leaf=1, max_features=auto, max_depth=20, total=  15.3s\n",
      "[CV] n_estimators=700, min_samples_split=15, min_samples_leaf=1, max_features=auto, max_depth=20 \n",
      "[CV]  n_estimators=700, min_samples_split=15, min_samples_leaf=1, max_features=auto, max_depth=20, total=  15.1s\n",
      "[CV] n_estimators=700, min_samples_split=15, min_samples_leaf=1, max_features=auto, max_depth=20 \n",
      "[CV]  n_estimators=700, min_samples_split=15, min_samples_leaf=1, max_features=auto, max_depth=20, total=  14.9s\n",
      "[CV] n_estimators=700, min_samples_split=15, min_samples_leaf=1, max_features=auto, max_depth=20 \n",
      "[CV]  n_estimators=700, min_samples_split=15, min_samples_leaf=1, max_features=auto, max_depth=20, total=  15.2s\n"
     ]
    },
    {
     "name": "stderr",
     "output_type": "stream",
     "text": [
      "[Parallel(n_jobs=1)]: Done  50 out of  50 | elapsed:  7.1min finished\n"
     ]
    },
    {
     "data": {
      "text/plain": [
       "RandomizedSearchCV(cv=5, estimator=RandomForestRegressor(), n_jobs=1,\n",
       "                   param_distributions={'max_depth': [5, 10, 15, 20, 25, 30],\n",
       "                                        'max_features': ['auto', 'sqrt'],\n",
       "                                        'min_samples_leaf': [1, 2, 5, 10],\n",
       "                                        'min_samples_split': [2, 5, 10, 15,\n",
       "                                                              100],\n",
       "                                        'n_estimators': [100, 200, 300, 400,\n",
       "                                                         500, 600, 700, 800,\n",
       "                                                         900, 1000, 1100,\n",
       "                                                         1200]},\n",
       "                   random_state=42, scoring='neg_mean_squared_error',\n",
       "                   verbose=2)"
      ]
     },
     "execution_count": 79,
     "metadata": {},
     "output_type": "execute_result"
    }
   ],
   "source": [
    "rf_random.fit(X_train,y_train)"
   ]
  },
  {
   "cell_type": "code",
   "execution_count": 80,
   "metadata": {},
   "outputs": [
    {
     "data": {
      "text/plain": [
       "{'n_estimators': 700,\n",
       " 'min_samples_split': 15,\n",
       " 'min_samples_leaf': 1,\n",
       " 'max_features': 'auto',\n",
       " 'max_depth': 20}"
      ]
     },
     "execution_count": 80,
     "metadata": {},
     "output_type": "execute_result"
    }
   ],
   "source": [
    "rf_random.best_params_"
   ]
  },
  {
   "cell_type": "code",
   "execution_count": 81,
   "metadata": {},
   "outputs": [],
   "source": [
    "prediction = rf_random.predict(X_test)"
   ]
  },
  {
   "cell_type": "code",
   "execution_count": 82,
   "metadata": {},
   "outputs": [
    {
     "name": "stdout",
     "output_type": "stream",
     "text": [
      "MAE: 0.0973402805559119\n",
      "MSE: 0.8691632192061807\n",
      "RMSE: 0.9322892358094567\n"
     ]
    }
   ],
   "source": [
    "print('MAE:', metrics.mean_absolute_error(y_test, prediction))\n",
    "print('MSE:', metrics.mean_squared_error(y_test, prediction))\n",
    "print('RMSE:', np.sqrt(metrics.mean_squared_error(y_test, prediction)))"
   ]
  },
  {
   "cell_type": "code",
   "execution_count": 83,
   "metadata": {},
   "outputs": [
    {
     "data": {
      "image/png": "[encoded data removed]",
      "text/plain": [
       "<Figure size 576x576 with 1 Axes>"
      ]
     },
     "metadata": {},
     "output_type": "display_data"
    }
   ],
   "source": [
    "plt.figure(figsize = (8,8))\n",
    "plt.scatter(y_test, prediction, alpha = 0.5)\n",
    "plt.xlabel(\"y_test\")\n",
    "plt.ylabel(\"y_pred\")\n",
    "plt.show()"
   ]
  },
  {
   "cell_type": "markdown",
   "metadata": {},
   "source": [
    "### Predictions"
   ]
  },
  {
   "cell_type": "code",
   "execution_count": 91,
   "metadata": {},
   "outputs": [
    {
     "data": {
      "text/html": [
       "<div>\n",
       "<style scoped>\n",
       "    .dataframe tbody tr th:only-of-type {\n",
       "        vertical-align: middle;\n",
       "    }\n",
       "\n",
       "    .dataframe tbody tr th {\n",
       "        vertical-align: top;\n",
       "    }\n",
       "\n",
       "    .dataframe thead th {\n",
       "        text-align: right;\n",
       "    }\n",
       "</style>\n",
       "<table border=\"1\" class=\"dataframe\">\n",
       "  <thead>\n",
       "    <tr style=\"text-align: right;\">\n",
       "      <th></th>\n",
       "      <th>Actual Data</th>\n",
       "      <th>Predicted Data</th>\n",
       "    </tr>\n",
       "  </thead>\n",
       "  <tbody>\n",
       "    <tr>\n",
       "      <th>4953</th>\n",
       "      <td>2520</td>\n",
       "      <td>2520.0</td>\n",
       "    </tr>\n",
       "    <tr>\n",
       "      <th>5464</th>\n",
       "      <td>1715</td>\n",
       "      <td>1715.0</td>\n",
       "    </tr>\n",
       "    <tr>\n",
       "      <th>7487</th>\n",
       "      <td>2126</td>\n",
       "      <td>2126.0</td>\n",
       "    </tr>\n",
       "    <tr>\n",
       "      <th>7608</th>\n",
       "      <td>2125</td>\n",
       "      <td>2125.0</td>\n",
       "    </tr>\n",
       "    <tr>\n",
       "      <th>2653</th>\n",
       "      <td>1830</td>\n",
       "      <td>1830.0</td>\n",
       "    </tr>\n",
       "  </tbody>\n",
       "</table>\n",
       "</div>"
      ],
      "text/plain": [
       "      Actual Data  Predicted Data\n",
       "4953         2520          2520.0\n",
       "5464         1715          1715.0\n",
       "7487         2126          2126.0\n",
       "7608         2125          2125.0\n",
       "2653         1830          1830.0"
      ]
     },
     "execution_count": 91,
     "metadata": {},
     "output_type": "execute_result"
    }
   ],
   "source": [
    "OutputDF=pd.DataFrame({'Actual Data':y_test,'Predicted Data':prediction})\n",
    "OutputDF.head()"
   ]
  },
  {
   "cell_type": "code",
   "execution_count": 92,
   "metadata": {},
   "outputs": [
    {
     "data": {
      "text/plain": [
       "<seaborn.axisgrid.FacetGrid at 0x187a541c190>"
      ]
     },
     "execution_count": 92,
     "metadata": {},
     "output_type": "execute_result"
    },
    {
     "data": {
      "image/png": "[encoded data removed]",
      "text/plain": [
       "<Figure size 360x360 with 1 Axes>"
      ]
     },
     "metadata": {},
     "output_type": "display_data"
    }
   ],
   "source": [
    "OutputDF = pd.DataFrame({'Y Test':y_test , 'Pred':prediction},columns=['Y Test','Pred'])\n",
    "sns.lmplot(x='Y Test',y='Pred',data=OutputDF,palette='rainbow')"
   ]
  },
  {
   "cell_type": "code",
   "execution_count": 93,
   "metadata": {},
   "outputs": [
    {
     "data": {
      "image/png": "[encoded data removed]",
      "text/plain": [
       "<Figure size 576x576 with 1 Axes>"
      ]
     },
     "metadata": {},
     "output_type": "display_data"
    }
   ],
   "source": [
    "plt.figure(figsize = (8,8))\n",
    "sns.distplot(y_test-prediction)\n",
    "plt.show()"
   ]
  },
  {
   "cell_type": "markdown",
   "metadata": {},
   "source": [
    "### Saving the Model"
   ]
  },
  {
   "cell_type": "code",
   "execution_count": 94,
   "metadata": {},
   "outputs": [],
   "source": [
    "import joblib"
   ]
  },
  {
   "cell_type": "code",
   "execution_count": 95,
   "metadata": {},
   "outputs": [
    {
     "data": {
      "text/plain": [
       "['flight_price_prediction_new.pkl']"
      ]
     },
     "execution_count": 95,
     "metadata": {},
     "output_type": "execute_result"
    }
   ],
   "source": [
    "joblib.dump(reg_rf, 'flight_price_prediction_new.pkl')"
   ]
  },
  {
   "cell_type": "code",
   "execution_count": 96,
   "metadata": {},
   "outputs": [],
   "source": [
    "# Load the model from the file\n",
    "reg_rf_from_joblib = joblib.load('flight_price_prediction_new.pkl')"
   ]
  },
  {
   "cell_type": "code",
   "execution_count": 97,
   "metadata": {},
   "outputs": [
    {
     "data": {
      "text/plain": [
       "array([2520., 1715., 2126., ..., 2463., 2202., 2600.])"
      ]
     },
     "execution_count": 97,
     "metadata": {},
     "output_type": "execute_result"
    }
   ],
   "source": [
    "# Use the loaded model to make predictions\n",
    "reg_rf_from_joblib.predict(X_test)"
   ]
  },
  {
   "cell_type": "code",
   "execution_count": null,
   "metadata": {},
   "outputs": [],
   "source": []
  },
  {
   "cell_type": "code",
   "execution_count": null,
   "metadata": {},
   "outputs": [],
   "source": []
  }
 ],
 "metadata": {
  "kernelspec": {
   "display_name": "Python 3",
   "language": "python",
   "name": "python3"
  },
  "language_info": {
   "codemirror_mode": {
    "name": "ipython",
    "version": 3
   },
   "file_extension": ".py",
   "mimetype": "text/x-python",
   "name": "python",
   "nbconvert_exporter": "python",
   "pygments_lexer": "ipython3",
   "version": "3.8.5"
  }
 },
 "nbformat": 4,
 "nbformat_minor": 4
}
